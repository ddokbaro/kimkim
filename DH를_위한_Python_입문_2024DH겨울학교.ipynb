{
  "nbformat": 4,
  "nbformat_minor": 0,
  "metadata": {
    "colab": {
      "provenance": [],
      "gpuType": "T4",
      "mount_file_id": "1cW3G2-tzSnjkWDLuycLALXOhTTGAtxF5",
      "authorship_tag": "ABX9TyN6JqtOaMLGBSH3n1AY8myz",
      "include_colab_link": true
    },
    "kernelspec": {
      "name": "python3",
      "display_name": "Python 3"
    },
    "language_info": {
      "name": "python"
    },
    "accelerator": "GPU"
  },
  "cells": [
    {
      "cell_type": "markdown",
      "metadata": {
        "id": "view-in-github",
        "colab_type": "text"
      },
      "source": [
        "<a href=\"https://colab.research.google.com/github/ddokbaro/kimkim/blob/main/DH%EB%A5%BC_%EC%9C%84%ED%95%9C_Python_%EC%9E%85%EB%AC%B8_2024DH%EA%B2%A8%EC%9A%B8%ED%95%99%EA%B5%90.ipynb\" target=\"_parent\"><img src=\"https://colab.research.google.com/assets/colab-badge.svg\" alt=\"Open In Colab\"/></a>"
      ]
    },
    {
      "cell_type": "markdown",
      "source": [
        "# About CoLab(Google CoLaboratory)\n",
        "\n",
        "HomePage: https://colab.research.google.com\n",
        "\n",
        "![대체 텍스트](https://miro.medium.com/max/1086/1*g_x1-5iYRn-SmdVucceiWw.png)\n"
      ],
      "metadata": {
        "id": "pouB31yOSL6t"
      }
    },
    {
      "cell_type": "code",
      "execution_count": null,
      "metadata": {
        "colab": {
          "base_uri": "https://localhost:8080/"
        },
        "id": "EfNIbldFSGMO",
        "outputId": "3eaffa7e-b034-4518-ef45-13bb4976dfb7"
      },
      "outputs": [
        {
          "output_type": "stream",
          "name": "stdout",
          "text": [
            "Python 3.10.12\n",
            "Ubuntu 22.04.3 LTS\n",
            "processor\t: 0\n",
            "vendor_id\t: GenuineIntel\n",
            "cpu family\t: 6\n",
            "model\t\t: 63\n",
            "model name\t: Intel(R) Xeon(R) CPU @ 2.30GHz\n",
            "stepping\t: 0\n",
            "microcode\t: 0xffffffff\n",
            "cpu MHz\t\t: 2299.998\n",
            "cache size\t: 46080 KB\n",
            "physical id\t: 0\n",
            "MemTotal:       13290480 kB\n",
            "MemFree:         8524348 kB\n",
            "MemAvailable:   12407000 kB\n",
            "Filesystem      Size  Used Avail Use% Mounted on\n",
            "overlay         167G   48G  120G  29% /\n",
            "tmpfs            64M     0   64M   0% /dev\n",
            "shm             5.7G     0  5.7G   0% /dev/shm\n",
            "/dev/root       2.0G  1.1G  849M  57% /usr/sbin/docker-init\n",
            "tmpfs           6.4G   48K  6.4G   1% /var/colab\n",
            "/dev/sda1       174G   56G  118G  32% /opt/bin/.nvidia\n",
            "tmpfs           6.4G     0  6.4G   0% /proc/acpi\n",
            "tmpfs           6.4G     0  6.4G   0% /proc/scsi\n",
            "tmpfs           6.4G     0  6.4G   0% /sys/firmware\n",
            "2.15.0\n",
            "Tue Jan 16 01:06:41 2024       \n",
            "+---------------------------------------------------------------------------------------+\n",
            "| NVIDIA-SMI 535.104.05             Driver Version: 535.104.05   CUDA Version: 12.2     |\n",
            "|-----------------------------------------+----------------------+----------------------+\n",
            "| GPU  Name                 Persistence-M | Bus-Id        Disp.A | Volatile Uncorr. ECC |\n",
            "| Fan  Temp   Perf          Pwr:Usage/Cap |         Memory-Usage | GPU-Util  Compute M. |\n",
            "|                                         |                      |               MIG M. |\n",
            "|=========================================+======================+======================|\n",
            "|   0  Tesla T4                       Off | 00000000:00:04.0 Off |                    0 |\n",
            "| N/A   45C    P8              10W /  70W |      0MiB / 15360MiB |      0%      Default |\n",
            "|                                         |                      |                  N/A |\n",
            "+-----------------------------------------+----------------------+----------------------+\n",
            "                                                                                         \n",
            "+---------------------------------------------------------------------------------------+\n",
            "| Processes:                                                                            |\n",
            "|  GPU   GI   CI        PID   Type   Process name                            GPU Memory |\n",
            "|        ID   ID                                                             Usage      |\n",
            "|=======================================================================================|\n",
            "|  No running processes found                                                           |\n",
            "+---------------------------------------------------------------------------------------+\n"
          ]
        }
      ],
      "source": [
        "# Python 버젼\n",
        "!python --version\n",
        "# OS 플랫폼\n",
        "!cat /etc/issue.net\n",
        "# CPU 사양\n",
        "!head /proc/cpuinfo\n",
        "# 메모리 사양 - 14Gb\n",
        "!head -n 3 /proc/meminfo\n",
        "# 디스크 사양 -\n",
        "!df -h\n",
        "# Tensorflow 버젼\n",
        "import tensorflow as tf\n",
        "print(tf.__version__)\n",
        "# GPU 모니터링 -  K80 GPU(GPU 11.4GB)\n",
        "## 12간 동안만 무료로 사용\n",
        "!nvidia-smi"
      ]
    },
    {
      "cell_type": "code",
      "source": [],
      "metadata": {
        "id": "Gq4ucx4kx4GV"
      },
      "execution_count": null,
      "outputs": []
    },
    {
      "cell_type": "markdown",
      "source": [],
      "metadata": {
        "id": "6CcXsAqax3bG"
      }
    },
    {
      "cell_type": "markdown",
      "metadata": {
        "id": "BQmv4HVzqqL8"
      },
      "source": [
        "# 1단계\n"
      ]
    },
    {
      "cell_type": "markdown",
      "source": [
        "## 2단계\n"
      ],
      "metadata": {
        "id": "56_BvFGGhK2B"
      }
    },
    {
      "cell_type": "markdown",
      "source": [
        "### 3단계\n"
      ],
      "metadata": {
        "id": "V24WIFP5hIuz"
      }
    },
    {
      "cell_type": "markdown",
      "source": [
        "#### 4단계"
      ],
      "metadata": {
        "id": "ilTp7M0vhJrc"
      }
    },
    {
      "cell_type": "markdown",
      "metadata": {
        "id": "3amXnIbKvqsJ"
      },
      "source": [
        "# 프로그래밍의 핵심(변수+조건+반복)"
      ]
    },
    {
      "cell_type": "markdown",
      "metadata": {
        "id": "LttdFnjNwDzh"
      },
      "source": [
        "### 변수"
      ]
    },
    {
      "cell_type": "code",
      "metadata": {
        "id": "YZuFOzyPvvHv"
      },
      "source": [
        "a = \"안녕하세요\""
      ],
      "execution_count": null,
      "outputs": []
    },
    {
      "cell_type": "code",
      "metadata": {
        "id": "V6JG4ZTCvxQ2",
        "colab": {
          "base_uri": "https://localhost:8080/",
          "height": 35
        },
        "outputId": "806d5f2f-5d52-45fe-a285-9040251f7896"
      },
      "source": [
        "a"
      ],
      "execution_count": null,
      "outputs": [
        {
          "output_type": "execute_result",
          "data": {
            "text/plain": [
              "'안녕하세요'"
            ],
            "application/vnd.google.colaboratory.intrinsic+json": {
              "type": "string"
            }
          },
          "metadata": {},
          "execution_count": 12
        }
      ]
    },
    {
      "cell_type": "code",
      "metadata": {
        "id": "R8_TLHzrvzC-"
      },
      "source": [
        "b = \"만나서 반갑습니다.\""
      ],
      "execution_count": null,
      "outputs": []
    },
    {
      "cell_type": "code",
      "metadata": {
        "id": "qSrsI59jv1Su",
        "colab": {
          "base_uri": "https://localhost:8080/"
        },
        "outputId": "3aa5daa1-ba1a-4019-e566-f1cd7df7ec53"
      },
      "source": [
        "print(b)"
      ],
      "execution_count": null,
      "outputs": [
        {
          "output_type": "stream",
          "name": "stdout",
          "text": [
            "만나서 반갑습니다.\n"
          ]
        }
      ]
    },
    {
      "cell_type": "code",
      "metadata": {
        "id": "9_Fsm30Dv2x2"
      },
      "source": [
        "c = a + b"
      ],
      "execution_count": null,
      "outputs": []
    },
    {
      "cell_type": "code",
      "metadata": {
        "id": "f2n-vGX1wA-0",
        "colab": {
          "base_uri": "https://localhost:8080/",
          "height": 35
        },
        "outputId": "d7e2167f-5d24-4c77-a48c-0e883b1d91aa"
      },
      "source": [
        "c"
      ],
      "execution_count": null,
      "outputs": [
        {
          "output_type": "execute_result",
          "data": {
            "text/plain": [
              "'안녕하세요만나서 반갑습니다.'"
            ],
            "application/vnd.google.colaboratory.intrinsic+json": {
              "type": "string"
            }
          },
          "metadata": {},
          "execution_count": 16
        }
      ]
    },
    {
      "cell_type": "code",
      "metadata": {
        "id": "yNtdfRBRqzjq",
        "colab": {
          "base_uri": "https://localhost:8080/",
          "height": 181
        },
        "outputId": "fbacaa24-bea9-42c3-f3df-1049cb4b2051"
      },
      "source": [
        "c = a - b"
      ],
      "execution_count": null,
      "outputs": [
        {
          "output_type": "error",
          "ename": "TypeError",
          "evalue": "unsupported operand type(s) for -: 'str' and 'str'",
          "traceback": [
            "\u001b[0;31m---------------------------------------------------------------------------\u001b[0m",
            "\u001b[0;31mTypeError\u001b[0m                                 Traceback (most recent call last)",
            "\u001b[0;32m<ipython-input-17-50b48e8ade62>\u001b[0m in \u001b[0;36m<cell line: 1>\u001b[0;34m()\u001b[0m\n\u001b[0;32m----> 1\u001b[0;31m \u001b[0mc\u001b[0m \u001b[0;34m=\u001b[0m \u001b[0ma\u001b[0m \u001b[0;34m-\u001b[0m \u001b[0mb\u001b[0m\u001b[0;34m\u001b[0m\u001b[0;34m\u001b[0m\u001b[0m\n\u001b[0m",
            "\u001b[0;31mTypeError\u001b[0m: unsupported operand type(s) for -: 'str' and 'str'"
          ]
        }
      ]
    },
    {
      "cell_type": "code",
      "metadata": {
        "id": "ZbdnautpzvK_",
        "colab": {
          "base_uri": "https://localhost:8080/"
        },
        "outputId": "571cc6fb-5dc5-473c-e3dd-5b10d74a46a5"
      },
      "source": [
        "d = 1\n",
        "e = 2\n",
        "\n",
        "f = d + e\n",
        "g = d - e\n",
        "h = d * e\n",
        "i = d / e\n",
        "j = (d + d+ d+ d+ d+ d+ d) * e\n",
        "\n",
        "f\n",
        "print(g)\n",
        "print(h)\n",
        "print(i)\n",
        "print(j)\n"
      ],
      "execution_count": null,
      "outputs": [
        {
          "output_type": "stream",
          "name": "stdout",
          "text": [
            "-1\n",
            "2\n",
            "0.5\n",
            "14\n"
          ]
        }
      ]
    },
    {
      "cell_type": "markdown",
      "metadata": {
        "id": "sxpmJ_XGwKPL"
      },
      "source": [
        "### 조건"
      ]
    },
    {
      "cell_type": "code",
      "metadata": {
        "id": "SO999VQFw9OQ",
        "colab": {
          "base_uri": "https://localhost:8080/"
        },
        "outputId": "058e24c4-0af7-4628-ba54-ce9bc80d0e64"
      },
      "source": [
        "aa = str(input())\n",
        "if aa == \"사랑해\":\n",
        "    print(\"저도 사랑해요~~~~\")\n",
        "else:\n",
        "    print(\"뭐라고요?\")\n"
      ],
      "execution_count": null,
      "outputs": [
        {
          "output_type": "stream",
          "name": "stdout",
          "text": [
            "사랑해~\n",
            "뭐라고요?\n"
          ]
        }
      ]
    },
    {
      "cell_type": "markdown",
      "metadata": {
        "id": "9UGy1edcwGf1"
      },
      "source": [
        "### 반복"
      ]
    },
    {
      "cell_type": "code",
      "metadata": {
        "id": "NjexbPZTxIXW"
      },
      "source": [
        "for i in range(1,100):\n",
        "  print(i)"
      ],
      "execution_count": null,
      "outputs": []
    },
    {
      "cell_type": "markdown",
      "metadata": {
        "id": "Ougwxu19yQY3"
      },
      "source": [
        "### 혼합"
      ]
    },
    {
      "cell_type": "code",
      "metadata": {
        "id": "D9ZVbjPuyR-O",
        "colab": {
          "base_uri": "https://localhost:8080/"
        },
        "outputId": "723a8af0-1de2-42c6-eb14-dd8408107d73"
      },
      "source": [
        "aaa = [90, 25, 67, 45, 80]\n",
        "for i in aaa:\n",
        "  if i > 60:\n",
        "    print(str(i)+\"점으로 합격입니다. 축하합니다.\")\n",
        "  else:\n",
        "    print(str(i)+\"점으로 불합격입니다. 더 노~~~오~~~력 하세요.\")"
      ],
      "execution_count": null,
      "outputs": [
        {
          "output_type": "stream",
          "name": "stdout",
          "text": [
            "90점으로 합격입니다. 축하합니다.\n",
            "25점으로 불합격입니다. 더 노~~~오~~~력 하세요.\n",
            "67점으로 합격입니다. 축하합니다.\n",
            "45점으로 불합격입니다. 더 노~~~오~~~력 하세요.\n",
            "80점으로 합격입니다. 축하합니다.\n"
          ]
        }
      ]
    },
    {
      "cell_type": "markdown",
      "source": [
        "# 파이썬의 자료형태"
      ],
      "metadata": {
        "id": "fQjdWtkXluca"
      }
    },
    {
      "cell_type": "code",
      "source": [
        "## 숫자형\n",
        "d = 1\n",
        "e = 2\n",
        "\n",
        "f = d + e\n",
        "g = d - e\n",
        "h = d * e\n",
        "i = d / e\n",
        "j = (d + d+ d+ d+ d+ d+ d) * e\n",
        "\n",
        "print(f)\n",
        "print(g)\n",
        "print(h)\n",
        "print(i)\n",
        "print(j)"
      ],
      "metadata": {
        "id": "NOVAB8eulu8o",
        "colab": {
          "base_uri": "https://localhost:8080/"
        },
        "outputId": "0386c67c-6052-4b5c-c4a7-01fabfec2939"
      },
      "execution_count": null,
      "outputs": [
        {
          "output_type": "stream",
          "name": "stdout",
          "text": [
            "3\n",
            "-1\n",
            "2\n",
            "0.5\n",
            "14\n"
          ]
        }
      ]
    },
    {
      "cell_type": "code",
      "source": [
        "## 문자형(string)\n",
        "메세지 =  \"합격입니다. 축하합니다.\"\n",
        "메세지"
      ],
      "metadata": {
        "colab": {
          "base_uri": "https://localhost:8080/",
          "height": 35
        },
        "id": "nWnDkS04lyMN",
        "outputId": "156d59fb-b463-4128-8d76-177e60014072"
      },
      "execution_count": null,
      "outputs": [
        {
          "output_type": "execute_result",
          "data": {
            "text/plain": [
              "'합격입니다. 축하합니다.'"
            ],
            "application/vnd.google.colaboratory.intrinsic+json": {
              "type": "string"
            }
          },
          "metadata": {},
          "execution_count": 53
        }
      ]
    },
    {
      "cell_type": "code",
      "source": [
        " ## 리스트(LIST) : 요소값 변화 가능\n",
        "숫자리스트 = [1, 3, 5, 7, 9]\n",
        "문자리스트 = ['나는', '그대를', '사랑합니다']\n",
        "\n",
        "print(숫자리스트)\n",
        "print(문자리스트)\n"
      ],
      "metadata": {
        "colab": {
          "base_uri": "https://localhost:8080/"
        },
        "id": "9lQfa0N_mERQ",
        "outputId": "90446f4d-9e60-4c86-c94d-162b2ebc853b"
      },
      "execution_count": null,
      "outputs": [
        {
          "output_type": "stream",
          "name": "stdout",
          "text": [
            "[1, 3, 5, 7, 9]\n",
            "['나는', '그대를', '사랑합니다']\n"
          ]
        }
      ]
    },
    {
      "cell_type": "code",
      "source": [
        "## 튜플(tuple) : 요소값 변화 불가\n",
        "\n",
        "t1 = ()\n",
        "t2 = (1,)\n",
        "t3 = (1, 2, 3)\n",
        "t4 = 1, 2, 3\n",
        "t5 = ('a', 'b', ('ab', 'cd'))\n",
        "\n",
        "print(t1)\n",
        "print(t2)\n",
        "print(t3)\n",
        "print(t4)\n",
        "print(t5)\n"
      ],
      "metadata": {
        "colab": {
          "base_uri": "https://localhost:8080/"
        },
        "id": "PLduWkfdmmq7",
        "outputId": "53c0051d-de4c-406d-8229-360ca9d2b18f"
      },
      "execution_count": null,
      "outputs": [
        {
          "output_type": "stream",
          "name": "stdout",
          "text": [
            "()\n",
            "(1,)\n",
            "(1, 2, 3)\n",
            "(1, 2, 3)\n",
            "('a', 'b', ('ab', 'cd'))\n"
          ]
        }
      ]
    },
    {
      "cell_type": "code",
      "source": [
        "# 딕셔너리(dictionary)\n",
        "\n",
        "dic = {'name': 'pey', 'phone': '010-9999-1234', 'birth': '1118'}\n",
        "dic"
      ],
      "metadata": {
        "colab": {
          "base_uri": "https://localhost:8080/"
        },
        "id": "MFDBVnA7m2VJ",
        "outputId": "8490bc53-599f-4a61-f4d8-d09b0af98cf4"
      },
      "execution_count": null,
      "outputs": [
        {
          "output_type": "execute_result",
          "data": {
            "text/plain": [
              "{'name': 'pey', 'phone': '010-9999-1234', 'birth': '1118'}"
            ]
          },
          "metadata": {},
          "execution_count": 59
        }
      ]
    },
    {
      "cell_type": "code",
      "source": [
        "# 집합(set)\n",
        "s1 = set([1, 2, 3])\n",
        "s1\n"
      ],
      "metadata": {
        "colab": {
          "base_uri": "https://localhost:8080/"
        },
        "id": "tJPO2IcbnANu",
        "outputId": "1cde5464-a99c-48aa-b8e5-b98ca8a304de"
      },
      "execution_count": null,
      "outputs": [
        {
          "output_type": "execute_result",
          "data": {
            "text/plain": [
              "{1, 2, 3}"
            ]
          },
          "metadata": {},
          "execution_count": 60
        }
      ]
    },
    {
      "cell_type": "code",
      "source": [
        "# 진위(bool)\n",
        "\n",
        "a = True\n",
        "b = False\n",
        "\n",
        "print(a)\n",
        "print(b)"
      ],
      "metadata": {
        "colab": {
          "base_uri": "https://localhost:8080/"
        },
        "id": "dK5BPymDnMx4",
        "outputId": "9345db0b-5963-4002-84a7-9e91e5c5d498"
      },
      "execution_count": null,
      "outputs": [
        {
          "output_type": "stream",
          "name": "stdout",
          "text": [
            "True\n",
            "False\n"
          ]
        }
      ]
    },
    {
      "cell_type": "markdown",
      "source": [
        "### 잠깐 인코딩 상식\n",
        "\n",
        "python은 유니코드(unicode)를 사용한다. 그 중에서도 utf-8이 기본.\n",
        "\n",
        "문자가 깨진다면, 인코딩 방식(ascii, euc-kr, GB18030...)을 살펴보라."
      ],
      "metadata": {
        "id": "vAsYOa4gnsFn"
      }
    },
    {
      "cell_type": "markdown",
      "source": [
        "# 데이터 입력과 출력\n"
      ],
      "metadata": {
        "id": "-e87juxdSYg3"
      }
    },
    {
      "cell_type": "markdown",
      "source": [
        "## 데이터 불러오기"
      ],
      "metadata": {
        "id": "lDx49WNofWaW"
      }
    },
    {
      "cell_type": "markdown",
      "metadata": {
        "id": "_m05PtNPuUT4"
      },
      "source": [
        "### 구글 드라이브와 연동"
      ]
    },
    {
      "cell_type": "code",
      "source": [],
      "metadata": {
        "id": "E9Yv-CD2D8T6"
      },
      "execution_count": null,
      "outputs": []
    },
    {
      "cell_type": "code",
      "source": [
        "from google.colab import drive\n",
        "drive.mount('/content/gdrive/')"
      ],
      "metadata": {
        "colab": {
          "base_uri": "https://localhost:8080/"
        },
        "id": "NFnPuXksSny9",
        "outputId": "85bc4cc3-8c5f-4b79-c5aa-93130cc00057"
      },
      "execution_count": null,
      "outputs": [
        {
          "output_type": "stream",
          "name": "stdout",
          "text": [
            "Mounted at /content/gdrive/\n"
          ]
        }
      ]
    },
    {
      "cell_type": "markdown",
      "source": [
        "**일반적인 사용 경로**\n",
        "\n",
        "/content/gdrive/MyDrive/Colab Notebooks/\n",
        "\n",
        "/content/gdrive/MyDrive/Colab Notebooks/2024DH겨울학교/rawdata_대통령취임사.tsv\n"
      ],
      "metadata": {
        "id": "zXu6Y4CRUjlB"
      }
    },
    {
      "cell_type": "code",
      "source": [
        "/content/drive/MyDrive/Colab Notebooks/2024DH겨울학교/rawdata_대통령취임사.tsv"
      ],
      "metadata": {
        "id": "W3SxVCYVEpPT"
      },
      "execution_count": null,
      "outputs": []
    },
    {
      "cell_type": "markdown",
      "source": [
        "### 구글 드라이브 개별 파일 가져오기\n",
        "\n",
        "필수조건: 해당 파일의 공유 설정이 \"일반액세스\"의 \"뷰어\"로 되어 있어야 함."
      ],
      "metadata": {
        "id": "0MAUN-A3TDyo"
      }
    },
    {
      "cell_type": "code",
      "source": [
        "## 문서 ID로 실제 파일 불러오기\n",
        "# 실습을 위한 역대 대통령 취임사: 노무현, 이명박, 박근혜, 문재인\n",
        "## https://drive.google.com/open?id=1VEdcJErjAjj2ul5gnS0-IgKrpGy0NEAK\n",
        "## https://drive.google.com/file/d/1tRQB0nB98gq4wxQd3LZyNaWEUZClGpHi/view?usp=sharing\n",
        "\n",
        "\n",
        "FILEID = \"1tRQB0nB98gq4wxQd3LZyNaWEUZClGpHi\"\n",
        "FILENAME = \"rawdata.tsv\"\n",
        "\n",
        "!wget --load-cookies ~/cookies.txt \"https://docs.google.com/uc?export=download&confirm=$(wget --quiet --save-cookies ~/cookies.txt --keep-session-cookies --no-check-certificate 'https://docs.google.com/uc?export=download&id={FILEID}' -O- | sed -rn 's/.*confirm=([0-9A-Za-z_]+).*/\\1\\n/p')&id={FILEID}\" -O {FILENAME} && rm -rf ~/cookies.txt\n"
      ],
      "metadata": {
        "colab": {
          "base_uri": "https://localhost:8080/"
        },
        "id": "JOIEgZD6Sntv",
        "outputId": "746061f3-8287-4a56-a7d8-2db68e2a44c2"
      },
      "execution_count": 1,
      "outputs": [
        {
          "output_type": "stream",
          "name": "stdout",
          "text": [
            "--2024-01-16 04:41:17--  https://docs.google.com/uc?export=download&confirm=&id=1tRQB0nB98gq4wxQd3LZyNaWEUZClGpHi\n",
            "Resolving docs.google.com (docs.google.com)... 142.251.175.138, 142.251.175.101, 142.251.175.139, ...\n",
            "Connecting to docs.google.com (docs.google.com)|142.251.175.138|:443... connected.\n",
            "HTTP request sent, awaiting response... 303 See Other\n",
            "Location: https://drive.usercontent.google.com/download?id=1tRQB0nB98gq4wxQd3LZyNaWEUZClGpHi&export=download [following]\n",
            "--2024-01-16 04:41:17--  https://drive.usercontent.google.com/download?id=1tRQB0nB98gq4wxQd3LZyNaWEUZClGpHi&export=download\n",
            "Resolving drive.usercontent.google.com (drive.usercontent.google.com)... 64.233.170.132, 2404:6800:4003:c1a::84\n",
            "Connecting to drive.usercontent.google.com (drive.usercontent.google.com)|64.233.170.132|:443... connected.\n",
            "HTTP request sent, awaiting response... 200 OK\n",
            "Length: 56342 (55K) [application/octet-stream]\n",
            "Saving to: ‘rawdata.tsv’\n",
            "\n",
            "rawdata.tsv         100%[===================>]  55.02K  --.-KB/s    in 0.001s  \n",
            "\n",
            "2024-01-16 04:41:18 (99.5 MB/s) - ‘rawdata.tsv’ saved [56342/56342]\n",
            "\n"
          ]
        }
      ]
    },
    {
      "cell_type": "markdown",
      "source": [
        "### Github에서 가져오기(클론하기)"
      ],
      "metadata": {
        "id": "z19mEpG4V09v"
      }
    },
    {
      "cell_type": "code",
      "source": [
        "!git clone https://github.com/ByungjunKim/DDMKL.git"
      ],
      "metadata": {
        "colab": {
          "base_uri": "https://localhost:8080/"
        },
        "id": "HOX-UCX9V7r2",
        "outputId": "a02e2f01-2e28-48f2-8981-d452487c8389"
      },
      "execution_count": 7,
      "outputs": [
        {
          "output_type": "stream",
          "name": "stdout",
          "text": [
            "Cloning into 'DDMKL'...\n",
            "remote: Enumerating objects: 393, done.\u001b[K\n",
            "remote: Counting objects: 100% (143/143), done.\u001b[K\n",
            "remote: Compressing objects: 100% (120/120), done.\u001b[K\n",
            "remote: Total 393 (delta 73), reused 64 (delta 21), pack-reused 250\u001b[K\n",
            "Receiving objects: 100% (393/393), 38.98 MiB | 12.69 MiB/s, done.\n",
            "Resolving deltas: 100% (209/209), done.\n"
          ]
        }
      ]
    },
    {
      "cell_type": "markdown",
      "source": [
        "/content/DDMKL/data/200805_현대문학_박사논문.xlsx"
      ],
      "metadata": {
        "id": "OhtmbjjsWDWL"
      }
    },
    {
      "cell_type": "code",
      "source": [
        "/content/DDMKL/data/200805_현대문학_박사논문.xlsx"
      ],
      "metadata": {
        "id": "AYM-7wqGIgaL"
      },
      "execution_count": null,
      "outputs": []
    },
    {
      "cell_type": "markdown",
      "source": [
        "### 일반적인 온라인파일(OSF.IO) 가져오기\n",
        "\n",
        "- 예시(OSF)\n",
        "\n",
        "https://osf.io/kv7ac/\n",
        "\n",
        "https://osf.io/kv7ac/files/osfstorage\n",
        "\n",
        "국사편찬위원회_조선왕조실록 정보_실록부가정보_선원계보_20190821.csv\n",
        "\n",
        "\n",
        "\n",
        "- 원출처: https://www.data.go.kr/data/15053645/fileData.do\n",
        "\n"
      ],
      "metadata": {
        "id": "TGdBsPO7W256"
      }
    },
    {
      "cell_type": "code",
      "source": [
        "!wget https://osf.io/download/q3ft2/ -O 인물정보.csv"
      ],
      "metadata": {
        "colab": {
          "base_uri": "https://localhost:8080/"
        },
        "id": "XFAkH79sZZSN",
        "outputId": "aaad282c-d033-4934-bb2f-6211fa5296c4"
      },
      "execution_count": null,
      "outputs": [
        {
          "output_type": "stream",
          "name": "stdout",
          "text": [
            "--2024-01-16 02:43:38--  https://osf.io/download/q3ft2/\n",
            "Resolving osf.io (osf.io)... 35.190.84.173\n",
            "Connecting to osf.io (osf.io)|35.190.84.173|:443... connected.\n",
            "HTTP request sent, awaiting response... 302 FOUND\n",
            "Location: https://files.osf.io/v1/resources/kv7ac/providers/osfstorage/5f3c6d513bf252021fa1f096 [following]\n",
            "--2024-01-16 02:43:38--  https://files.osf.io/v1/resources/kv7ac/providers/osfstorage/5f3c6d513bf252021fa1f096\n",
            "Resolving files.osf.io (files.osf.io)... 35.186.214.196\n",
            "Connecting to files.osf.io (files.osf.io)|35.186.214.196|:443... connected.\n",
            "HTTP request sent, awaiting response... 302 Found\n",
            "Location: https://storage.googleapis.com/cos-osf-prod-files-us/58312f707d1bd9745b6dd1bd19b141fb94cf2a6cb0cf3724d4c4e3b1225baf77?response-content-disposition=attachment%3B%20filename%3D%22_%20___20190821.csv%22%3B%20filename%2A%3DUTF-8%27%27%25EA%25B5%25AD%25EC%2582%25AC%25ED%258E%25B8%25EC%25B0%25AC%25EC%259C%2584%25EC%259B%2590%25ED%259A%258C_%25EC%25A1%25B0%25EC%2584%25A0%25EC%2599%2595%25EC%25A1%25B0%25EC%258B%25A4%25EB%25A1%259D%2520%25EC%25A0%2595%25EB%25B3%25B4_%25EC%258B%25A4%25EB%25A1%259D%25EB%25B6%2580%25EA%25B0%2580%25EC%25A0%2595%25EB%25B3%25B4_%25EC%259D%25B8%25EB%25AC%25BC_20190821.csv&GoogleAccessId=files-us%40cos-osf-prod.iam.gserviceaccount.com&Expires=1705373078&Signature=V0rb%2B0xFFWV02z%2FsThdUE4MQTX0FG1YG7v81zWKnwFo%2FOMPImBFiYON4u6MbeuzDc8KO2CR%2FoVab%2FzXC0OfXjCJYp2ZQdKdQ1s2G5SX4%2BOP5sQ7Xv63D4PNT2nRZzyZygrex2bzjdvq7fHwFRH4zvqZ%2FvhMp67SZ48J7gJXj3IJl0JLbSdqM5x2V%2F9Kk1wsqOqjY7jeXMcw1AnuupBeHcyUq24f6PAdxRC4Ww%2FpEMBNQr8DOmqJlcwoaQWSSb%2B0K5qc3PrHAwMj6z5SyLB3IF3wlmqaeAUmYjizKYyRNfKM8IpFMTCd8k9q0YbGGrJDdcmaqREQxrR3SBLzEJA97gQ%3D%3D [following]\n",
            "--2024-01-16 02:43:38--  https://storage.googleapis.com/cos-osf-prod-files-us/58312f707d1bd9745b6dd1bd19b141fb94cf2a6cb0cf3724d4c4e3b1225baf77?response-content-disposition=attachment%3B%20filename%3D%22_%20___20190821.csv%22%3B%20filename%2A%3DUTF-8%27%27%25EA%25B5%25AD%25EC%2582%25AC%25ED%258E%25B8%25EC%25B0%25AC%25EC%259C%2584%25EC%259B%2590%25ED%259A%258C_%25EC%25A1%25B0%25EC%2584%25A0%25EC%2599%2595%25EC%25A1%25B0%25EC%258B%25A4%25EB%25A1%259D%2520%25EC%25A0%2595%25EB%25B3%25B4_%25EC%258B%25A4%25EB%25A1%259D%25EB%25B6%2580%25EA%25B0%2580%25EC%25A0%2595%25EB%25B3%25B4_%25EC%259D%25B8%25EB%25AC%25BC_20190821.csv&GoogleAccessId=files-us%40cos-osf-prod.iam.gserviceaccount.com&Expires=1705373078&Signature=V0rb%2B0xFFWV02z%2FsThdUE4MQTX0FG1YG7v81zWKnwFo%2FOMPImBFiYON4u6MbeuzDc8KO2CR%2FoVab%2FzXC0OfXjCJYp2ZQdKdQ1s2G5SX4%2BOP5sQ7Xv63D4PNT2nRZzyZygrex2bzjdvq7fHwFRH4zvqZ%2FvhMp67SZ48J7gJXj3IJl0JLbSdqM5x2V%2F9Kk1wsqOqjY7jeXMcw1AnuupBeHcyUq24f6PAdxRC4Ww%2FpEMBNQr8DOmqJlcwoaQWSSb%2B0K5qc3PrHAwMj6z5SyLB3IF3wlmqaeAUmYjizKYyRNfKM8IpFMTCd8k9q0YbGGrJDdcmaqREQxrR3SBLzEJA97gQ%3D%3D\n",
            "Resolving storage.googleapis.com (storage.googleapis.com)... 142.251.107.207, 74.125.196.207, 74.125.134.207, ...\n",
            "Connecting to storage.googleapis.com (storage.googleapis.com)|142.251.107.207|:443... connected.\n",
            "HTTP request sent, awaiting response... 200 OK\n",
            "Length: 13984179 (13M) [application/octet-stream]\n",
            "Saving to: ‘인물정보.csv’\n",
            "\n",
            "인물정보.csv        100%[===================>]  13.34M  --.-KB/s    in 0.1s    \n",
            "\n",
            "2024-01-16 02:43:38 (118 MB/s) - ‘인물정보.csv’ saved [13984179/13984179]\n",
            "\n"
          ]
        }
      ]
    },
    {
      "cell_type": "code",
      "source": [
        "!wget https://www.moe.go.kr/boardCnts/fileDown.do?m=020402&s=moe&fileSeq=4d5eec872ed2d8146076cdb118bd1432 -O 교육부.hwp"
      ],
      "metadata": {
        "colab": {
          "base_uri": "https://localhost:8080/"
        },
        "id": "7zpJvQdQJ5cE",
        "outputId": "95cc6eed-703c-4f19-95d8-6d0ecb1e5159"
      },
      "execution_count": null,
      "outputs": [
        {
          "output_type": "stream",
          "name": "stdout",
          "text": [
            "/bin/bash: line 1: -O: command not found\n",
            "--2024-01-16 02:45:07--  https://www.moe.go.kr/boardCnts/fileDown.do?m=020402\n",
            "Resolving www.moe.go.kr (www.moe.go.kr)... 27.101.207.36\n",
            "Connecting to www.moe.go.kr (www.moe.go.kr)|27.101.207.36|:443... connected.\n",
            "HTTP request sent, awaiting response... 404 Not Found\n",
            "2024-01-16 02:45:09 ERROR 404: Not Found.\n",
            "\n"
          ]
        }
      ]
    },
    {
      "cell_type": "markdown",
      "metadata": {
        "id": "nc9LOwIRuiye"
      },
      "source": [
        "# 라이브러리 사용하기 및 오류 대응"
      ]
    },
    {
      "cell_type": "markdown",
      "metadata": {
        "id": "8944LL-7vENI"
      },
      "source": [
        "## 이미 설치된 라이브러리 사용하기(pandas)"
      ]
    },
    {
      "cell_type": "code",
      "metadata": {
        "id": "f4xsRRi1qNyf",
        "colab": {
          "base_uri": "https://localhost:8080/",
          "height": 181
        },
        "outputId": "97842af3-e30d-4d61-b932-43ac2f217d18"
      },
      "source": [
        "df = pandas.read_csv('rawdata.tsv')"
      ],
      "execution_count": 2,
      "outputs": [
        {
          "output_type": "error",
          "ename": "NameError",
          "evalue": "name 'pandas' is not defined",
          "traceback": [
            "\u001b[0;31m---------------------------------------------------------------------------\u001b[0m",
            "\u001b[0;31mNameError\u001b[0m                                 Traceback (most recent call last)",
            "\u001b[0;32m<ipython-input-2-5b47e37cbc9b>\u001b[0m in \u001b[0;36m<cell line: 1>\u001b[0;34m()\u001b[0m\n\u001b[0;32m----> 1\u001b[0;31m \u001b[0mdf\u001b[0m \u001b[0;34m=\u001b[0m \u001b[0mpandas\u001b[0m\u001b[0;34m.\u001b[0m\u001b[0mread_csv\u001b[0m\u001b[0;34m(\u001b[0m\u001b[0;34m'rawdata.tsv'\u001b[0m\u001b[0;34m)\u001b[0m\u001b[0;34m\u001b[0m\u001b[0;34m\u001b[0m\u001b[0m\n\u001b[0m",
            "\u001b[0;31mNameError\u001b[0m: name 'pandas' is not defined"
          ]
        }
      ]
    },
    {
      "cell_type": "code",
      "metadata": {
        "id": "gV-jWgOWuvLl"
      },
      "source": [
        "import pandas as pd\n",
        "df = pd.read_csv('rawdata.tsv', sep = '\\t')"
      ],
      "execution_count": 5,
      "outputs": []
    },
    {
      "cell_type": "code",
      "source": [
        "df"
      ],
      "metadata": {
        "colab": {
          "base_uri": "https://localhost:8080/",
          "height": 175
        },
        "id": "Cvcs64nuTAF3",
        "outputId": "2ee1b47c-09e4-4363-c74b-bbb110cca7d4"
      },
      "execution_count": 6,
      "outputs": [
        {
          "output_type": "execute_result",
          "data": {
            "text/plain": [
              "   id type                                               text\n",
              "0   1  노무현  존경하는 국민 여러분.   오늘 저는 대한민국의 제16대 대통령에 취임하기 위해 이...\n",
              "1   2  이명박  존경하는 국민 여러분!  700만 해외동포 여러분, 이 자리에 참석하신 노무현, 김...\n",
              "2   3  박근혜  희망의 새 시대를 열겠습니다.  존경하는 국민 여러분! 700만 해외동포 여러분! ...\n",
              "3   4  문재인  존경하고 사랑하는 국민 여러분, 감사합니다. 국민 여러분의 위대한 선택에 머리 숙여..."
            ],
            "text/html": [
              "\n",
              "  <div id=\"df-eafad938-7267-4949-834b-37365317ea11\" class=\"colab-df-container\">\n",
              "    <div>\n",
              "<style scoped>\n",
              "    .dataframe tbody tr th:only-of-type {\n",
              "        vertical-align: middle;\n",
              "    }\n",
              "\n",
              "    .dataframe tbody tr th {\n",
              "        vertical-align: top;\n",
              "    }\n",
              "\n",
              "    .dataframe thead th {\n",
              "        text-align: right;\n",
              "    }\n",
              "</style>\n",
              "<table border=\"1\" class=\"dataframe\">\n",
              "  <thead>\n",
              "    <tr style=\"text-align: right;\">\n",
              "      <th></th>\n",
              "      <th>id</th>\n",
              "      <th>type</th>\n",
              "      <th>text</th>\n",
              "    </tr>\n",
              "  </thead>\n",
              "  <tbody>\n",
              "    <tr>\n",
              "      <th>0</th>\n",
              "      <td>1</td>\n",
              "      <td>노무현</td>\n",
              "      <td>존경하는 국민 여러분.   오늘 저는 대한민국의 제16대 대통령에 취임하기 위해 이...</td>\n",
              "    </tr>\n",
              "    <tr>\n",
              "      <th>1</th>\n",
              "      <td>2</td>\n",
              "      <td>이명박</td>\n",
              "      <td>존경하는 국민 여러분!  700만 해외동포 여러분, 이 자리에 참석하신 노무현, 김...</td>\n",
              "    </tr>\n",
              "    <tr>\n",
              "      <th>2</th>\n",
              "      <td>3</td>\n",
              "      <td>박근혜</td>\n",
              "      <td>희망의 새 시대를 열겠습니다.  존경하는 국민 여러분! 700만 해외동포 여러분! ...</td>\n",
              "    </tr>\n",
              "    <tr>\n",
              "      <th>3</th>\n",
              "      <td>4</td>\n",
              "      <td>문재인</td>\n",
              "      <td>존경하고 사랑하는 국민 여러분, 감사합니다. 국민 여러분의 위대한 선택에 머리 숙여...</td>\n",
              "    </tr>\n",
              "  </tbody>\n",
              "</table>\n",
              "</div>\n",
              "    <div class=\"colab-df-buttons\">\n",
              "\n",
              "  <div class=\"colab-df-container\">\n",
              "    <button class=\"colab-df-convert\" onclick=\"convertToInteractive('df-eafad938-7267-4949-834b-37365317ea11')\"\n",
              "            title=\"Convert this dataframe to an interactive table.\"\n",
              "            style=\"display:none;\">\n",
              "\n",
              "  <svg xmlns=\"http://www.w3.org/2000/svg\" height=\"24px\" viewBox=\"0 -960 960 960\">\n",
              "    <path d=\"M120-120v-720h720v720H120Zm60-500h600v-160H180v160Zm220 220h160v-160H400v160Zm0 220h160v-160H400v160ZM180-400h160v-160H180v160Zm440 0h160v-160H620v160ZM180-180h160v-160H180v160Zm440 0h160v-160H620v160Z\"/>\n",
              "  </svg>\n",
              "    </button>\n",
              "\n",
              "  <style>\n",
              "    .colab-df-container {\n",
              "      display:flex;\n",
              "      gap: 12px;\n",
              "    }\n",
              "\n",
              "    .colab-df-convert {\n",
              "      background-color: #E8F0FE;\n",
              "      border: none;\n",
              "      border-radius: 50%;\n",
              "      cursor: pointer;\n",
              "      display: none;\n",
              "      fill: #1967D2;\n",
              "      height: 32px;\n",
              "      padding: 0 0 0 0;\n",
              "      width: 32px;\n",
              "    }\n",
              "\n",
              "    .colab-df-convert:hover {\n",
              "      background-color: #E2EBFA;\n",
              "      box-shadow: 0px 1px 2px rgba(60, 64, 67, 0.3), 0px 1px 3px 1px rgba(60, 64, 67, 0.15);\n",
              "      fill: #174EA6;\n",
              "    }\n",
              "\n",
              "    .colab-df-buttons div {\n",
              "      margin-bottom: 4px;\n",
              "    }\n",
              "\n",
              "    [theme=dark] .colab-df-convert {\n",
              "      background-color: #3B4455;\n",
              "      fill: #D2E3FC;\n",
              "    }\n",
              "\n",
              "    [theme=dark] .colab-df-convert:hover {\n",
              "      background-color: #434B5C;\n",
              "      box-shadow: 0px 1px 3px 1px rgba(0, 0, 0, 0.15);\n",
              "      filter: drop-shadow(0px 1px 2px rgba(0, 0, 0, 0.3));\n",
              "      fill: #FFFFFF;\n",
              "    }\n",
              "  </style>\n",
              "\n",
              "    <script>\n",
              "      const buttonEl =\n",
              "        document.querySelector('#df-eafad938-7267-4949-834b-37365317ea11 button.colab-df-convert');\n",
              "      buttonEl.style.display =\n",
              "        google.colab.kernel.accessAllowed ? 'block' : 'none';\n",
              "\n",
              "      async function convertToInteractive(key) {\n",
              "        const element = document.querySelector('#df-eafad938-7267-4949-834b-37365317ea11');\n",
              "        const dataTable =\n",
              "          await google.colab.kernel.invokeFunction('convertToInteractive',\n",
              "                                                    [key], {});\n",
              "        if (!dataTable) return;\n",
              "\n",
              "        const docLinkHtml = 'Like what you see? Visit the ' +\n",
              "          '<a target=\"_blank\" href=https://colab.research.google.com/notebooks/data_table.ipynb>data table notebook</a>'\n",
              "          + ' to learn more about interactive tables.';\n",
              "        element.innerHTML = '';\n",
              "        dataTable['output_type'] = 'display_data';\n",
              "        await google.colab.output.renderOutput(dataTable, element);\n",
              "        const docLink = document.createElement('div');\n",
              "        docLink.innerHTML = docLinkHtml;\n",
              "        element.appendChild(docLink);\n",
              "      }\n",
              "    </script>\n",
              "  </div>\n",
              "\n",
              "\n",
              "<div id=\"df-2a8c5fcc-819d-4b4c-84ef-5bfca85ed976\">\n",
              "  <button class=\"colab-df-quickchart\" onclick=\"quickchart('df-2a8c5fcc-819d-4b4c-84ef-5bfca85ed976')\"\n",
              "            title=\"Suggest charts\"\n",
              "            style=\"display:none;\">\n",
              "\n",
              "<svg xmlns=\"http://www.w3.org/2000/svg\" height=\"24px\"viewBox=\"0 0 24 24\"\n",
              "     width=\"24px\">\n",
              "    <g>\n",
              "        <path d=\"M19 3H5c-1.1 0-2 .9-2 2v14c0 1.1.9 2 2 2h14c1.1 0 2-.9 2-2V5c0-1.1-.9-2-2-2zM9 17H7v-7h2v7zm4 0h-2V7h2v10zm4 0h-2v-4h2v4z\"/>\n",
              "    </g>\n",
              "</svg>\n",
              "  </button>\n",
              "\n",
              "<style>\n",
              "  .colab-df-quickchart {\n",
              "      --bg-color: #E8F0FE;\n",
              "      --fill-color: #1967D2;\n",
              "      --hover-bg-color: #E2EBFA;\n",
              "      --hover-fill-color: #174EA6;\n",
              "      --disabled-fill-color: #AAA;\n",
              "      --disabled-bg-color: #DDD;\n",
              "  }\n",
              "\n",
              "  [theme=dark] .colab-df-quickchart {\n",
              "      --bg-color: #3B4455;\n",
              "      --fill-color: #D2E3FC;\n",
              "      --hover-bg-color: #434B5C;\n",
              "      --hover-fill-color: #FFFFFF;\n",
              "      --disabled-bg-color: #3B4455;\n",
              "      --disabled-fill-color: #666;\n",
              "  }\n",
              "\n",
              "  .colab-df-quickchart {\n",
              "    background-color: var(--bg-color);\n",
              "    border: none;\n",
              "    border-radius: 50%;\n",
              "    cursor: pointer;\n",
              "    display: none;\n",
              "    fill: var(--fill-color);\n",
              "    height: 32px;\n",
              "    padding: 0;\n",
              "    width: 32px;\n",
              "  }\n",
              "\n",
              "  .colab-df-quickchart:hover {\n",
              "    background-color: var(--hover-bg-color);\n",
              "    box-shadow: 0 1px 2px rgba(60, 64, 67, 0.3), 0 1px 3px 1px rgba(60, 64, 67, 0.15);\n",
              "    fill: var(--button-hover-fill-color);\n",
              "  }\n",
              "\n",
              "  .colab-df-quickchart-complete:disabled,\n",
              "  .colab-df-quickchart-complete:disabled:hover {\n",
              "    background-color: var(--disabled-bg-color);\n",
              "    fill: var(--disabled-fill-color);\n",
              "    box-shadow: none;\n",
              "  }\n",
              "\n",
              "  .colab-df-spinner {\n",
              "    border: 2px solid var(--fill-color);\n",
              "    border-color: transparent;\n",
              "    border-bottom-color: var(--fill-color);\n",
              "    animation:\n",
              "      spin 1s steps(1) infinite;\n",
              "  }\n",
              "\n",
              "  @keyframes spin {\n",
              "    0% {\n",
              "      border-color: transparent;\n",
              "      border-bottom-color: var(--fill-color);\n",
              "      border-left-color: var(--fill-color);\n",
              "    }\n",
              "    20% {\n",
              "      border-color: transparent;\n",
              "      border-left-color: var(--fill-color);\n",
              "      border-top-color: var(--fill-color);\n",
              "    }\n",
              "    30% {\n",
              "      border-color: transparent;\n",
              "      border-left-color: var(--fill-color);\n",
              "      border-top-color: var(--fill-color);\n",
              "      border-right-color: var(--fill-color);\n",
              "    }\n",
              "    40% {\n",
              "      border-color: transparent;\n",
              "      border-right-color: var(--fill-color);\n",
              "      border-top-color: var(--fill-color);\n",
              "    }\n",
              "    60% {\n",
              "      border-color: transparent;\n",
              "      border-right-color: var(--fill-color);\n",
              "    }\n",
              "    80% {\n",
              "      border-color: transparent;\n",
              "      border-right-color: var(--fill-color);\n",
              "      border-bottom-color: var(--fill-color);\n",
              "    }\n",
              "    90% {\n",
              "      border-color: transparent;\n",
              "      border-bottom-color: var(--fill-color);\n",
              "    }\n",
              "  }\n",
              "</style>\n",
              "\n",
              "  <script>\n",
              "    async function quickchart(key) {\n",
              "      const quickchartButtonEl =\n",
              "        document.querySelector('#' + key + ' button');\n",
              "      quickchartButtonEl.disabled = true;  // To prevent multiple clicks.\n",
              "      quickchartButtonEl.classList.add('colab-df-spinner');\n",
              "      try {\n",
              "        const charts = await google.colab.kernel.invokeFunction(\n",
              "            'suggestCharts', [key], {});\n",
              "      } catch (error) {\n",
              "        console.error('Error during call to suggestCharts:', error);\n",
              "      }\n",
              "      quickchartButtonEl.classList.remove('colab-df-spinner');\n",
              "      quickchartButtonEl.classList.add('colab-df-quickchart-complete');\n",
              "    }\n",
              "    (() => {\n",
              "      let quickchartButtonEl =\n",
              "        document.querySelector('#df-2a8c5fcc-819d-4b4c-84ef-5bfca85ed976 button');\n",
              "      quickchartButtonEl.style.display =\n",
              "        google.colab.kernel.accessAllowed ? 'block' : 'none';\n",
              "    })();\n",
              "  </script>\n",
              "</div>\n",
              "\n",
              "  <div id=\"id_1a4e0179-5ac5-484e-9ed9-02bea477947b\">\n",
              "    <style>\n",
              "      .colab-df-generate {\n",
              "        background-color: #E8F0FE;\n",
              "        border: none;\n",
              "        border-radius: 50%;\n",
              "        cursor: pointer;\n",
              "        display: none;\n",
              "        fill: #1967D2;\n",
              "        height: 32px;\n",
              "        padding: 0 0 0 0;\n",
              "        width: 32px;\n",
              "      }\n",
              "\n",
              "      .colab-df-generate:hover {\n",
              "        background-color: #E2EBFA;\n",
              "        box-shadow: 0px 1px 2px rgba(60, 64, 67, 0.3), 0px 1px 3px 1px rgba(60, 64, 67, 0.15);\n",
              "        fill: #174EA6;\n",
              "      }\n",
              "\n",
              "      [theme=dark] .colab-df-generate {\n",
              "        background-color: #3B4455;\n",
              "        fill: #D2E3FC;\n",
              "      }\n",
              "\n",
              "      [theme=dark] .colab-df-generate:hover {\n",
              "        background-color: #434B5C;\n",
              "        box-shadow: 0px 1px 3px 1px rgba(0, 0, 0, 0.15);\n",
              "        filter: drop-shadow(0px 1px 2px rgba(0, 0, 0, 0.3));\n",
              "        fill: #FFFFFF;\n",
              "      }\n",
              "    </style>\n",
              "    <button class=\"colab-df-generate\" onclick=\"generateWithVariable('df')\"\n",
              "            title=\"Generate code using this dataframe.\"\n",
              "            style=\"display:none;\">\n",
              "\n",
              "  <svg xmlns=\"http://www.w3.org/2000/svg\" height=\"24px\"viewBox=\"0 0 24 24\"\n",
              "       width=\"24px\">\n",
              "    <path d=\"M7,19H8.4L18.45,9,17,7.55,7,17.6ZM5,21V16.75L18.45,3.32a2,2,0,0,1,2.83,0l1.4,1.43a1.91,1.91,0,0,1,.58,1.4,1.91,1.91,0,0,1-.58,1.4L9.25,21ZM18.45,9,17,7.55Zm-12,3A5.31,5.31,0,0,0,4.9,8.1,5.31,5.31,0,0,0,1,6.5,5.31,5.31,0,0,0,4.9,4.9,5.31,5.31,0,0,0,6.5,1,5.31,5.31,0,0,0,8.1,4.9,5.31,5.31,0,0,0,12,6.5,5.46,5.46,0,0,0,6.5,12Z\"/>\n",
              "  </svg>\n",
              "    </button>\n",
              "    <script>\n",
              "      (() => {\n",
              "      const buttonEl =\n",
              "        document.querySelector('#id_1a4e0179-5ac5-484e-9ed9-02bea477947b button.colab-df-generate');\n",
              "      buttonEl.style.display =\n",
              "        google.colab.kernel.accessAllowed ? 'block' : 'none';\n",
              "\n",
              "      buttonEl.onclick = () => {\n",
              "        google.colab.notebook.generateWithVariable('df');\n",
              "      }\n",
              "      })();\n",
              "    </script>\n",
              "  </div>\n",
              "\n",
              "    </div>\n",
              "  </div>\n"
            ]
          },
          "metadata": {},
          "execution_count": 6
        }
      ]
    },
    {
      "cell_type": "code",
      "source": [
        "import pandas as pd\n",
        "dfexcel = pd.read_excel(\"/content/DDMKL/data/200805_현대문학_박사논문.xlsx\")\n"
      ],
      "metadata": {
        "id": "o47LpEAGTqdj"
      },
      "execution_count": 8,
      "outputs": []
    },
    {
      "cell_type": "code",
      "source": [
        "dfexcel"
      ],
      "metadata": {
        "colab": {
          "base_uri": "https://localhost:8080/",
          "height": 1000
        },
        "id": "GTK8ytJHUlQ2",
        "outputId": "3a1928b3-5041-468f-aa15-9d792dcaa479"
      },
      "execution_count": 9,
      "outputs": [
        {
          "output_type": "execute_result",
          "data": {
            "text/plain": [
              "      Index   대주제       장르            중주제1   중주제2               대상작가  \\\n",
              "0         1   작가론        시             시인론    NaN                서정주   \n",
              "1         2   주제론       소설           소설주제론    NaN                NaN   \n",
              "2         3   주제론       비평           소설주제론    NaN                NaN   \n",
              "3         4  비교문학       비평            비교문학    시인론        조지훈,크리슈나무르티   \n",
              "4         5   주제론       소설  여성문학_젠더(해방 이후)  소설주제론                NaN   \n",
              "...     ...   ...      ...             ...    ...                ...   \n",
              "1523   1524   작가론       소설           소설작가론    NaN                서정인   \n",
              "1524   1525    문화  기타_복합장르  여성문학_젠더(해방 이후)   문학문화                NaN   \n",
              "1525   1526   작가론       비평             비평사    NaN                이어령   \n",
              "1526   1527   작가론    희곡_연극         희곡(사)연구    NaN                이현화   \n",
              "1527   1528  비교문학       소설            비교문학  소설작가론  김동인,위다프,다니자키 준이치로   \n",
              "\n",
              "            시대별                                                 서명 기타서명   저자  \\\n",
              "0            통사   徐廷柱 詩 硏究 = A study on the Poetry of Suh, Jung-Ju  NaN  연은순   \n",
              "1          1950  전후소설과 이데올로기의 상관성 연구 = (A) Study of Correlation...  NaN  이봉일   \n",
              "2           개화기                             韓國 近代初期 文學論과 小說化 樣相 硏究  NaN  김윤재   \n",
              "3            통사                        조지훈과 크리슈나무르티의 선적(禪的) 동질성 연구  NaN  김기호   \n",
              "4          1950  1950년대 한국소설의 여성인물 연구 : 현실수용양상을 중심으로 = (A)study...  NaN  송경란   \n",
              "...         ...                                                ...  ...  ...   \n",
              "1523       해방이후  서정인 소설의 변모 양상 연구 = A Study on Changing Aspects...  NaN  박희현   \n",
              "1524  1960~1970                   '여류문학전집'(1967-1979)과 여성문학의 젠더 정치  NaN  김은석   \n",
              "1525       해방이후  이어령 문학비평 연구 = A Study of Lee O-young′s Literar...  NaN  홍래성   \n",
              "1526       해방이후  이현화 희곡에 나타난 대화 양상과 현실 인식 연구 = A study of conve...  NaN  허재홍   \n",
              "1527       해방이전  韓國·中國·日本 근대 唯美主義 문학의 比較硏究 : 金東仁·郁達夫·谷崎潤一郞을 中心으...  NaN  유옥평   \n",
              "\n",
              "      ...          DDC      KDC 발행국   출판년  \\\n",
              "0     ...          NaN    811.6  서울  2000   \n",
              "1     ...          NaN  813.6 4  서울  2000   \n",
              "2     ...  895.1309 16      NaN  서울  2000   \n",
              "3     ...  895.1109 16      NaN  서울  2000   \n",
              "4     ...   895.734 21  813.6 4  서울  2000   \n",
              "...   ...          ...      ...  ..   ...   \n",
              "1523  ...          NaN      NaN  서울  2019   \n",
              "1524  ...          NaN      NaN  서울  2019   \n",
              "1525  ...          NaN      NaN  서울  2019   \n",
              "1526  ...       811 23      NaN  서울  2019   \n",
              "1527  ...          NaN      NaN  서울  2019   \n",
              "\n",
              "                                                    주제어  \\\n",
              "0                                                   NaN   \n",
              "1                                        전후소설,이데올로기,상관성   \n",
              "2                                                   NaN   \n",
              "3                                                   NaN   \n",
              "4                                        1950년대,소설,여성인물   \n",
              "...                                                 ...   \n",
              "1523  미메시스,디에게시스,말의 중첩,언어적 다양성,상대주의적 세계관,인유(引喩),판소리 ...   \n",
              "1524                       여류문학전집,문학 장,한국여류문학인회,문학 장,정전   \n",
              "1525  이어령,1950년대,전후세대,이상론,저항의 문학,퍼포머티브,전통론,김동리,사르트르,...   \n",
              "1526  이현화,대화분석,이야기적합성, 언술텍스트,부가텍스트,매개적 소통구조,70년대 희곡,...   \n",
              "1527          西歐, 韓國, 中國, 日本, 近代, 唯美主義, 金東仁, 郁達夫, 谷崎潤一郞   \n",
              "\n",
              "                                                   소장기관  \\\n",
              "0     강원대학교 도서관 (242002),국립중앙도서관 (011001),단국대학교 퇴계기념...   \n",
              "1                 경희대학교 중앙도서관 (211006),국립중앙도서관 (011001)   \n",
              "2          국립중앙도서관 (011001),한국외국어대학교 서울캠퍼스 도서관 (211059)   \n",
              "3          국립중앙도서관 (011001),한국외국어대학교 서울캠퍼스 도서관 (211059)   \n",
              "4     국립중앙도서관 (011001),숙명여자대학교 도서관 (211043),한국학중앙연구원...   \n",
              "...                                                 ...   \n",
              "1523                               서울시립대학교 도서관 (211035)   \n",
              "1524                               동국대학교 중앙도서관 (211020)   \n",
              "1525                               서울시립대학교 도서관 (211035)   \n",
              "1526                                서강대학교 도서관  (211029)   \n",
              "1527          한양대학교 안산캠퍼스 (241050),한양대학교 중앙도서관 (211062)   \n",
              "\n",
              "                      UCI식별코드  \\\n",
              "0                         NaN   \n",
              "1                         NaN   \n",
              "2                         NaN   \n",
              "3                         NaN   \n",
              "4                         NaN   \n",
              "...                       ...   \n",
              "1523  I804:11035-000000030867   \n",
              "1524  I804:11020-000000079013   \n",
              "1525  I804:11035-000000030919   \n",
              "1526  I804:11029-000000064666   \n",
              "1527  I804:11062-000000109184   \n",
              "\n",
              "                                       국문 초록 (Abstract)  \\\n",
              "0                                                   NaN   \n",
              "1     본논문은 '50년대 전후소설과 이데올로기의 상관성을 이해하는 데 목적이 있다. 그동...   \n",
              "2                                                   NaN   \n",
              "3                                                   NaN   \n",
              "4     이 논문은 1950년대 소설에서 전쟁과 전후상황에 의한 여성인물의 현실수용양상을 살...   \n",
              "...                                                 ...   \n",
              "1523  본고는 서정인 소설 세계의 변모 양상을 작품을 통해 구체적으로 살펴보는 것을 연구의...   \n",
              "1524  본 논문은 ‘여류문학전집’(1967~1979)을 중심으로 1960~70년대 여류문학...   \n",
              "1525  본 논문은 전후의 시기에 펼쳐진 이어령의 문학비평을 대상으로 그 성격과 특질을 살펴...   \n",
              "1526  1970년대는 신예 극작가들에 의한 형식 실험이 활발히 전개된 시기다. 그중에서도 ...   \n",
              "1527  唯美主義(Aestheticism)는 美의 創造를 藝術의 唯一至上을 目的으로 삼는 藝...   \n",
              "\n",
              "                         다국어 초록 (Multilingual Abstract)  \\\n",
              "0     This dissertation aims at investigating Suh, J...   \n",
              "1     The aim of this dissertation is to understand ...   \n",
              "2                                                   NaN   \n",
              "3                                                   NaN   \n",
              "4     In this study, I tried to explain the influenc...   \n",
              "...                                                 ...   \n",
              "1523  The purpose of this study is to examine aspect...   \n",
              "1524  The Women’s Literary Collection by Women Write...   \n",
              "1525  This study, examined the characteristics and f...   \n",
              "1526                                                NaN   \n",
              "1527                                                NaN   \n",
              "\n",
              "                                                     목차  \n",
              "0     목차_x000D_\\nI. 서론 = 1_x000D_\\n 1. 문제제기 = 1_x000...  \n",
              "1     Ⅰ. 서론 = 1_x000D_\\n 1. 문제제기 = 1_x000D_\\n 2. 연구사...  \n",
              "2     \\n=0,1,3\\n차례=i,4,2\\nI. 서론=1,6,1\\n1. 연구목적=1,6,2...  \n",
              "3     \\n=0,1,3\\n목차=i,4,1\\nI. 서론=1,5,1\\n1. 문제의 제기=1,5...  \n",
              "4     Ⅰ. 서론 ········································...  \n",
              "...                                                 ...  \n",
              "1523  제1장. 서론   1&#xD;\\n 제1절. 문제 제기 및 연구 목적   1&#xD;...  \n",
              "1524  Ⅰ. 서 론  1&#xD;\\n 1. 연구 목적 및 연구사 검토  1&#xD;\\n 2...  \n",
              "1525  제1장 서론 1&#xD;\\n  제1절 연구의 필요성 1&#xD;\\n  제2절 연구사...  \n",
              "1526  【국문초록】\\ti&#xD;\\n&#xD;\\nⅠ. 서론\\t1&#xD;\\n   1. 기존...  \n",
              "1527  Ⅰ. 서론 1&#xD;\\n 1. 문제 제기  1&#xD;\\n 2. 연구사 검토  7...  \n",
              "\n",
              "[1528 rows x 25 columns]"
            ],
            "text/html": [
              "\n",
              "  <div id=\"df-7b555ff7-2d9a-461c-a317-46e466b82a04\" class=\"colab-df-container\">\n",
              "    <div>\n",
              "<style scoped>\n",
              "    .dataframe tbody tr th:only-of-type {\n",
              "        vertical-align: middle;\n",
              "    }\n",
              "\n",
              "    .dataframe tbody tr th {\n",
              "        vertical-align: top;\n",
              "    }\n",
              "\n",
              "    .dataframe thead th {\n",
              "        text-align: right;\n",
              "    }\n",
              "</style>\n",
              "<table border=\"1\" class=\"dataframe\">\n",
              "  <thead>\n",
              "    <tr style=\"text-align: right;\">\n",
              "      <th></th>\n",
              "      <th>Index</th>\n",
              "      <th>대주제</th>\n",
              "      <th>장르</th>\n",
              "      <th>중주제1</th>\n",
              "      <th>중주제2</th>\n",
              "      <th>대상작가</th>\n",
              "      <th>시대별</th>\n",
              "      <th>서명</th>\n",
              "      <th>기타서명</th>\n",
              "      <th>저자</th>\n",
              "      <th>...</th>\n",
              "      <th>DDC</th>\n",
              "      <th>KDC</th>\n",
              "      <th>발행국</th>\n",
              "      <th>출판년</th>\n",
              "      <th>주제어</th>\n",
              "      <th>소장기관</th>\n",
              "      <th>UCI식별코드</th>\n",
              "      <th>국문 초록 (Abstract)</th>\n",
              "      <th>다국어 초록 (Multilingual Abstract)</th>\n",
              "      <th>목차</th>\n",
              "    </tr>\n",
              "  </thead>\n",
              "  <tbody>\n",
              "    <tr>\n",
              "      <th>0</th>\n",
              "      <td>1</td>\n",
              "      <td>작가론</td>\n",
              "      <td>시</td>\n",
              "      <td>시인론</td>\n",
              "      <td>NaN</td>\n",
              "      <td>서정주</td>\n",
              "      <td>통사</td>\n",
              "      <td>徐廷柱 詩 硏究 = A study on the Poetry of Suh, Jung-Ju</td>\n",
              "      <td>NaN</td>\n",
              "      <td>연은순</td>\n",
              "      <td>...</td>\n",
              "      <td>NaN</td>\n",
              "      <td>811.6</td>\n",
              "      <td>서울</td>\n",
              "      <td>2000</td>\n",
              "      <td>NaN</td>\n",
              "      <td>강원대학교 도서관 (242002),국립중앙도서관 (011001),단국대학교 퇴계기념...</td>\n",
              "      <td>NaN</td>\n",
              "      <td>NaN</td>\n",
              "      <td>This dissertation aims at investigating Suh, J...</td>\n",
              "      <td>목차_x000D_\\nI. 서론 = 1_x000D_\\n 1. 문제제기 = 1_x000...</td>\n",
              "    </tr>\n",
              "    <tr>\n",
              "      <th>1</th>\n",
              "      <td>2</td>\n",
              "      <td>주제론</td>\n",
              "      <td>소설</td>\n",
              "      <td>소설주제론</td>\n",
              "      <td>NaN</td>\n",
              "      <td>NaN</td>\n",
              "      <td>1950</td>\n",
              "      <td>전후소설과 이데올로기의 상관성 연구 = (A) Study of Correlation...</td>\n",
              "      <td>NaN</td>\n",
              "      <td>이봉일</td>\n",
              "      <td>...</td>\n",
              "      <td>NaN</td>\n",
              "      <td>813.6 4</td>\n",
              "      <td>서울</td>\n",
              "      <td>2000</td>\n",
              "      <td>전후소설,이데올로기,상관성</td>\n",
              "      <td>경희대학교 중앙도서관 (211006),국립중앙도서관 (011001)</td>\n",
              "      <td>NaN</td>\n",
              "      <td>본논문은 '50년대 전후소설과 이데올로기의 상관성을 이해하는 데 목적이 있다. 그동...</td>\n",
              "      <td>The aim of this dissertation is to understand ...</td>\n",
              "      <td>Ⅰ. 서론 = 1_x000D_\\n 1. 문제제기 = 1_x000D_\\n 2. 연구사...</td>\n",
              "    </tr>\n",
              "    <tr>\n",
              "      <th>2</th>\n",
              "      <td>3</td>\n",
              "      <td>주제론</td>\n",
              "      <td>비평</td>\n",
              "      <td>소설주제론</td>\n",
              "      <td>NaN</td>\n",
              "      <td>NaN</td>\n",
              "      <td>개화기</td>\n",
              "      <td>韓國 近代初期 文學論과 小說化 樣相 硏究</td>\n",
              "      <td>NaN</td>\n",
              "      <td>김윤재</td>\n",
              "      <td>...</td>\n",
              "      <td>895.1309 16</td>\n",
              "      <td>NaN</td>\n",
              "      <td>서울</td>\n",
              "      <td>2000</td>\n",
              "      <td>NaN</td>\n",
              "      <td>국립중앙도서관 (011001),한국외국어대학교 서울캠퍼스 도서관 (211059)</td>\n",
              "      <td>NaN</td>\n",
              "      <td>NaN</td>\n",
              "      <td>NaN</td>\n",
              "      <td>\\n=0,1,3\\n차례=i,4,2\\nI. 서론=1,6,1\\n1. 연구목적=1,6,2...</td>\n",
              "    </tr>\n",
              "    <tr>\n",
              "      <th>3</th>\n",
              "      <td>4</td>\n",
              "      <td>비교문학</td>\n",
              "      <td>비평</td>\n",
              "      <td>비교문학</td>\n",
              "      <td>시인론</td>\n",
              "      <td>조지훈,크리슈나무르티</td>\n",
              "      <td>통사</td>\n",
              "      <td>조지훈과 크리슈나무르티의 선적(禪的) 동질성 연구</td>\n",
              "      <td>NaN</td>\n",
              "      <td>김기호</td>\n",
              "      <td>...</td>\n",
              "      <td>895.1109 16</td>\n",
              "      <td>NaN</td>\n",
              "      <td>서울</td>\n",
              "      <td>2000</td>\n",
              "      <td>NaN</td>\n",
              "      <td>국립중앙도서관 (011001),한국외국어대학교 서울캠퍼스 도서관 (211059)</td>\n",
              "      <td>NaN</td>\n",
              "      <td>NaN</td>\n",
              "      <td>NaN</td>\n",
              "      <td>\\n=0,1,3\\n목차=i,4,1\\nI. 서론=1,5,1\\n1. 문제의 제기=1,5...</td>\n",
              "    </tr>\n",
              "    <tr>\n",
              "      <th>4</th>\n",
              "      <td>5</td>\n",
              "      <td>주제론</td>\n",
              "      <td>소설</td>\n",
              "      <td>여성문학_젠더(해방 이후)</td>\n",
              "      <td>소설주제론</td>\n",
              "      <td>NaN</td>\n",
              "      <td>1950</td>\n",
              "      <td>1950년대 한국소설의 여성인물 연구 : 현실수용양상을 중심으로 = (A)study...</td>\n",
              "      <td>NaN</td>\n",
              "      <td>송경란</td>\n",
              "      <td>...</td>\n",
              "      <td>895.734 21</td>\n",
              "      <td>813.6 4</td>\n",
              "      <td>서울</td>\n",
              "      <td>2000</td>\n",
              "      <td>1950년대,소설,여성인물</td>\n",
              "      <td>국립중앙도서관 (011001),숙명여자대학교 도서관 (211043),한국학중앙연구원...</td>\n",
              "      <td>NaN</td>\n",
              "      <td>이 논문은 1950년대 소설에서 전쟁과 전후상황에 의한 여성인물의 현실수용양상을 살...</td>\n",
              "      <td>In this study, I tried to explain the influenc...</td>\n",
              "      <td>Ⅰ. 서론 ········································...</td>\n",
              "    </tr>\n",
              "    <tr>\n",
              "      <th>...</th>\n",
              "      <td>...</td>\n",
              "      <td>...</td>\n",
              "      <td>...</td>\n",
              "      <td>...</td>\n",
              "      <td>...</td>\n",
              "      <td>...</td>\n",
              "      <td>...</td>\n",
              "      <td>...</td>\n",
              "      <td>...</td>\n",
              "      <td>...</td>\n",
              "      <td>...</td>\n",
              "      <td>...</td>\n",
              "      <td>...</td>\n",
              "      <td>...</td>\n",
              "      <td>...</td>\n",
              "      <td>...</td>\n",
              "      <td>...</td>\n",
              "      <td>...</td>\n",
              "      <td>...</td>\n",
              "      <td>...</td>\n",
              "      <td>...</td>\n",
              "    </tr>\n",
              "    <tr>\n",
              "      <th>1523</th>\n",
              "      <td>1524</td>\n",
              "      <td>작가론</td>\n",
              "      <td>소설</td>\n",
              "      <td>소설작가론</td>\n",
              "      <td>NaN</td>\n",
              "      <td>서정인</td>\n",
              "      <td>해방이후</td>\n",
              "      <td>서정인 소설의 변모 양상 연구 = A Study on Changing Aspects...</td>\n",
              "      <td>NaN</td>\n",
              "      <td>박희현</td>\n",
              "      <td>...</td>\n",
              "      <td>NaN</td>\n",
              "      <td>NaN</td>\n",
              "      <td>서울</td>\n",
              "      <td>2019</td>\n",
              "      <td>미메시스,디에게시스,말의 중첩,언어적 다양성,상대주의적 세계관,인유(引喩),판소리 ...</td>\n",
              "      <td>서울시립대학교 도서관 (211035)</td>\n",
              "      <td>I804:11035-000000030867</td>\n",
              "      <td>본고는 서정인 소설 세계의 변모 양상을 작품을 통해 구체적으로 살펴보는 것을 연구의...</td>\n",
              "      <td>The purpose of this study is to examine aspect...</td>\n",
              "      <td>제1장. 서론   1&amp;#xD;\\n 제1절. 문제 제기 및 연구 목적   1&amp;#xD;...</td>\n",
              "    </tr>\n",
              "    <tr>\n",
              "      <th>1524</th>\n",
              "      <td>1525</td>\n",
              "      <td>문화</td>\n",
              "      <td>기타_복합장르</td>\n",
              "      <td>여성문학_젠더(해방 이후)</td>\n",
              "      <td>문학문화</td>\n",
              "      <td>NaN</td>\n",
              "      <td>1960~1970</td>\n",
              "      <td>'여류문학전집'(1967-1979)과 여성문학의 젠더 정치</td>\n",
              "      <td>NaN</td>\n",
              "      <td>김은석</td>\n",
              "      <td>...</td>\n",
              "      <td>NaN</td>\n",
              "      <td>NaN</td>\n",
              "      <td>서울</td>\n",
              "      <td>2019</td>\n",
              "      <td>여류문학전집,문학 장,한국여류문학인회,문학 장,정전</td>\n",
              "      <td>동국대학교 중앙도서관 (211020)</td>\n",
              "      <td>I804:11020-000000079013</td>\n",
              "      <td>본 논문은 ‘여류문학전집’(1967~1979)을 중심으로 1960~70년대 여류문학...</td>\n",
              "      <td>The Women’s Literary Collection by Women Write...</td>\n",
              "      <td>Ⅰ. 서 론  1&amp;#xD;\\n 1. 연구 목적 및 연구사 검토  1&amp;#xD;\\n 2...</td>\n",
              "    </tr>\n",
              "    <tr>\n",
              "      <th>1525</th>\n",
              "      <td>1526</td>\n",
              "      <td>작가론</td>\n",
              "      <td>비평</td>\n",
              "      <td>비평사</td>\n",
              "      <td>NaN</td>\n",
              "      <td>이어령</td>\n",
              "      <td>해방이후</td>\n",
              "      <td>이어령 문학비평 연구 = A Study of Lee O-young′s Literar...</td>\n",
              "      <td>NaN</td>\n",
              "      <td>홍래성</td>\n",
              "      <td>...</td>\n",
              "      <td>NaN</td>\n",
              "      <td>NaN</td>\n",
              "      <td>서울</td>\n",
              "      <td>2019</td>\n",
              "      <td>이어령,1950년대,전후세대,이상론,저항의 문학,퍼포머티브,전통론,김동리,사르트르,...</td>\n",
              "      <td>서울시립대학교 도서관 (211035)</td>\n",
              "      <td>I804:11035-000000030919</td>\n",
              "      <td>본 논문은 전후의 시기에 펼쳐진 이어령의 문학비평을 대상으로 그 성격과 특질을 살펴...</td>\n",
              "      <td>This study, examined the characteristics and f...</td>\n",
              "      <td>제1장 서론 1&amp;#xD;\\n  제1절 연구의 필요성 1&amp;#xD;\\n  제2절 연구사...</td>\n",
              "    </tr>\n",
              "    <tr>\n",
              "      <th>1526</th>\n",
              "      <td>1527</td>\n",
              "      <td>작가론</td>\n",
              "      <td>희곡_연극</td>\n",
              "      <td>희곡(사)연구</td>\n",
              "      <td>NaN</td>\n",
              "      <td>이현화</td>\n",
              "      <td>해방이후</td>\n",
              "      <td>이현화 희곡에 나타난 대화 양상과 현실 인식 연구 = A study of conve...</td>\n",
              "      <td>NaN</td>\n",
              "      <td>허재홍</td>\n",
              "      <td>...</td>\n",
              "      <td>811 23</td>\n",
              "      <td>NaN</td>\n",
              "      <td>서울</td>\n",
              "      <td>2019</td>\n",
              "      <td>이현화,대화분석,이야기적합성, 언술텍스트,부가텍스트,매개적 소통구조,70년대 희곡,...</td>\n",
              "      <td>서강대학교 도서관  (211029)</td>\n",
              "      <td>I804:11029-000000064666</td>\n",
              "      <td>1970년대는 신예 극작가들에 의한 형식 실험이 활발히 전개된 시기다. 그중에서도 ...</td>\n",
              "      <td>NaN</td>\n",
              "      <td>【국문초록】\\ti&amp;#xD;\\n&amp;#xD;\\nⅠ. 서론\\t1&amp;#xD;\\n   1. 기존...</td>\n",
              "    </tr>\n",
              "    <tr>\n",
              "      <th>1527</th>\n",
              "      <td>1528</td>\n",
              "      <td>비교문학</td>\n",
              "      <td>소설</td>\n",
              "      <td>비교문학</td>\n",
              "      <td>소설작가론</td>\n",
              "      <td>김동인,위다프,다니자키 준이치로</td>\n",
              "      <td>해방이전</td>\n",
              "      <td>韓國·中國·日本 근대 唯美主義 문학의 比較硏究 : 金東仁·郁達夫·谷崎潤一郞을 中心으...</td>\n",
              "      <td>NaN</td>\n",
              "      <td>유옥평</td>\n",
              "      <td>...</td>\n",
              "      <td>NaN</td>\n",
              "      <td>NaN</td>\n",
              "      <td>서울</td>\n",
              "      <td>2019</td>\n",
              "      <td>西歐, 韓國, 中國, 日本, 近代, 唯美主義, 金東仁, 郁達夫, 谷崎潤一郞</td>\n",
              "      <td>한양대학교 안산캠퍼스 (241050),한양대학교 중앙도서관 (211062)</td>\n",
              "      <td>I804:11062-000000109184</td>\n",
              "      <td>唯美主義(Aestheticism)는 美의 創造를 藝術의 唯一至上을 目的으로 삼는 藝...</td>\n",
              "      <td>NaN</td>\n",
              "      <td>Ⅰ. 서론 1&amp;#xD;\\n 1. 문제 제기  1&amp;#xD;\\n 2. 연구사 검토  7...</td>\n",
              "    </tr>\n",
              "  </tbody>\n",
              "</table>\n",
              "<p>1528 rows × 25 columns</p>\n",
              "</div>\n",
              "    <div class=\"colab-df-buttons\">\n",
              "\n",
              "  <div class=\"colab-df-container\">\n",
              "    <button class=\"colab-df-convert\" onclick=\"convertToInteractive('df-7b555ff7-2d9a-461c-a317-46e466b82a04')\"\n",
              "            title=\"Convert this dataframe to an interactive table.\"\n",
              "            style=\"display:none;\">\n",
              "\n",
              "  <svg xmlns=\"http://www.w3.org/2000/svg\" height=\"24px\" viewBox=\"0 -960 960 960\">\n",
              "    <path d=\"M120-120v-720h720v720H120Zm60-500h600v-160H180v160Zm220 220h160v-160H400v160Zm0 220h160v-160H400v160ZM180-400h160v-160H180v160Zm440 0h160v-160H620v160ZM180-180h160v-160H180v160Zm440 0h160v-160H620v160Z\"/>\n",
              "  </svg>\n",
              "    </button>\n",
              "\n",
              "  <style>\n",
              "    .colab-df-container {\n",
              "      display:flex;\n",
              "      gap: 12px;\n",
              "    }\n",
              "\n",
              "    .colab-df-convert {\n",
              "      background-color: #E8F0FE;\n",
              "      border: none;\n",
              "      border-radius: 50%;\n",
              "      cursor: pointer;\n",
              "      display: none;\n",
              "      fill: #1967D2;\n",
              "      height: 32px;\n",
              "      padding: 0 0 0 0;\n",
              "      width: 32px;\n",
              "    }\n",
              "\n",
              "    .colab-df-convert:hover {\n",
              "      background-color: #E2EBFA;\n",
              "      box-shadow: 0px 1px 2px rgba(60, 64, 67, 0.3), 0px 1px 3px 1px rgba(60, 64, 67, 0.15);\n",
              "      fill: #174EA6;\n",
              "    }\n",
              "\n",
              "    .colab-df-buttons div {\n",
              "      margin-bottom: 4px;\n",
              "    }\n",
              "\n",
              "    [theme=dark] .colab-df-convert {\n",
              "      background-color: #3B4455;\n",
              "      fill: #D2E3FC;\n",
              "    }\n",
              "\n",
              "    [theme=dark] .colab-df-convert:hover {\n",
              "      background-color: #434B5C;\n",
              "      box-shadow: 0px 1px 3px 1px rgba(0, 0, 0, 0.15);\n",
              "      filter: drop-shadow(0px 1px 2px rgba(0, 0, 0, 0.3));\n",
              "      fill: #FFFFFF;\n",
              "    }\n",
              "  </style>\n",
              "\n",
              "    <script>\n",
              "      const buttonEl =\n",
              "        document.querySelector('#df-7b555ff7-2d9a-461c-a317-46e466b82a04 button.colab-df-convert');\n",
              "      buttonEl.style.display =\n",
              "        google.colab.kernel.accessAllowed ? 'block' : 'none';\n",
              "\n",
              "      async function convertToInteractive(key) {\n",
              "        const element = document.querySelector('#df-7b555ff7-2d9a-461c-a317-46e466b82a04');\n",
              "        const dataTable =\n",
              "          await google.colab.kernel.invokeFunction('convertToInteractive',\n",
              "                                                    [key], {});\n",
              "        if (!dataTable) return;\n",
              "\n",
              "        const docLinkHtml = 'Like what you see? Visit the ' +\n",
              "          '<a target=\"_blank\" href=https://colab.research.google.com/notebooks/data_table.ipynb>data table notebook</a>'\n",
              "          + ' to learn more about interactive tables.';\n",
              "        element.innerHTML = '';\n",
              "        dataTable['output_type'] = 'display_data';\n",
              "        await google.colab.output.renderOutput(dataTable, element);\n",
              "        const docLink = document.createElement('div');\n",
              "        docLink.innerHTML = docLinkHtml;\n",
              "        element.appendChild(docLink);\n",
              "      }\n",
              "    </script>\n",
              "  </div>\n",
              "\n",
              "\n",
              "<div id=\"df-4521e015-87fc-4de3-87cb-76c2a6120be5\">\n",
              "  <button class=\"colab-df-quickchart\" onclick=\"quickchart('df-4521e015-87fc-4de3-87cb-76c2a6120be5')\"\n",
              "            title=\"Suggest charts\"\n",
              "            style=\"display:none;\">\n",
              "\n",
              "<svg xmlns=\"http://www.w3.org/2000/svg\" height=\"24px\"viewBox=\"0 0 24 24\"\n",
              "     width=\"24px\">\n",
              "    <g>\n",
              "        <path d=\"M19 3H5c-1.1 0-2 .9-2 2v14c0 1.1.9 2 2 2h14c1.1 0 2-.9 2-2V5c0-1.1-.9-2-2-2zM9 17H7v-7h2v7zm4 0h-2V7h2v10zm4 0h-2v-4h2v4z\"/>\n",
              "    </g>\n",
              "</svg>\n",
              "  </button>\n",
              "\n",
              "<style>\n",
              "  .colab-df-quickchart {\n",
              "      --bg-color: #E8F0FE;\n",
              "      --fill-color: #1967D2;\n",
              "      --hover-bg-color: #E2EBFA;\n",
              "      --hover-fill-color: #174EA6;\n",
              "      --disabled-fill-color: #AAA;\n",
              "      --disabled-bg-color: #DDD;\n",
              "  }\n",
              "\n",
              "  [theme=dark] .colab-df-quickchart {\n",
              "      --bg-color: #3B4455;\n",
              "      --fill-color: #D2E3FC;\n",
              "      --hover-bg-color: #434B5C;\n",
              "      --hover-fill-color: #FFFFFF;\n",
              "      --disabled-bg-color: #3B4455;\n",
              "      --disabled-fill-color: #666;\n",
              "  }\n",
              "\n",
              "  .colab-df-quickchart {\n",
              "    background-color: var(--bg-color);\n",
              "    border: none;\n",
              "    border-radius: 50%;\n",
              "    cursor: pointer;\n",
              "    display: none;\n",
              "    fill: var(--fill-color);\n",
              "    height: 32px;\n",
              "    padding: 0;\n",
              "    width: 32px;\n",
              "  }\n",
              "\n",
              "  .colab-df-quickchart:hover {\n",
              "    background-color: var(--hover-bg-color);\n",
              "    box-shadow: 0 1px 2px rgba(60, 64, 67, 0.3), 0 1px 3px 1px rgba(60, 64, 67, 0.15);\n",
              "    fill: var(--button-hover-fill-color);\n",
              "  }\n",
              "\n",
              "  .colab-df-quickchart-complete:disabled,\n",
              "  .colab-df-quickchart-complete:disabled:hover {\n",
              "    background-color: var(--disabled-bg-color);\n",
              "    fill: var(--disabled-fill-color);\n",
              "    box-shadow: none;\n",
              "  }\n",
              "\n",
              "  .colab-df-spinner {\n",
              "    border: 2px solid var(--fill-color);\n",
              "    border-color: transparent;\n",
              "    border-bottom-color: var(--fill-color);\n",
              "    animation:\n",
              "      spin 1s steps(1) infinite;\n",
              "  }\n",
              "\n",
              "  @keyframes spin {\n",
              "    0% {\n",
              "      border-color: transparent;\n",
              "      border-bottom-color: var(--fill-color);\n",
              "      border-left-color: var(--fill-color);\n",
              "    }\n",
              "    20% {\n",
              "      border-color: transparent;\n",
              "      border-left-color: var(--fill-color);\n",
              "      border-top-color: var(--fill-color);\n",
              "    }\n",
              "    30% {\n",
              "      border-color: transparent;\n",
              "      border-left-color: var(--fill-color);\n",
              "      border-top-color: var(--fill-color);\n",
              "      border-right-color: var(--fill-color);\n",
              "    }\n",
              "    40% {\n",
              "      border-color: transparent;\n",
              "      border-right-color: var(--fill-color);\n",
              "      border-top-color: var(--fill-color);\n",
              "    }\n",
              "    60% {\n",
              "      border-color: transparent;\n",
              "      border-right-color: var(--fill-color);\n",
              "    }\n",
              "    80% {\n",
              "      border-color: transparent;\n",
              "      border-right-color: var(--fill-color);\n",
              "      border-bottom-color: var(--fill-color);\n",
              "    }\n",
              "    90% {\n",
              "      border-color: transparent;\n",
              "      border-bottom-color: var(--fill-color);\n",
              "    }\n",
              "  }\n",
              "</style>\n",
              "\n",
              "  <script>\n",
              "    async function quickchart(key) {\n",
              "      const quickchartButtonEl =\n",
              "        document.querySelector('#' + key + ' button');\n",
              "      quickchartButtonEl.disabled = true;  // To prevent multiple clicks.\n",
              "      quickchartButtonEl.classList.add('colab-df-spinner');\n",
              "      try {\n",
              "        const charts = await google.colab.kernel.invokeFunction(\n",
              "            'suggestCharts', [key], {});\n",
              "      } catch (error) {\n",
              "        console.error('Error during call to suggestCharts:', error);\n",
              "      }\n",
              "      quickchartButtonEl.classList.remove('colab-df-spinner');\n",
              "      quickchartButtonEl.classList.add('colab-df-quickchart-complete');\n",
              "    }\n",
              "    (() => {\n",
              "      let quickchartButtonEl =\n",
              "        document.querySelector('#df-4521e015-87fc-4de3-87cb-76c2a6120be5 button');\n",
              "      quickchartButtonEl.style.display =\n",
              "        google.colab.kernel.accessAllowed ? 'block' : 'none';\n",
              "    })();\n",
              "  </script>\n",
              "</div>\n",
              "\n",
              "  <div id=\"id_ee8115ea-859b-4647-b494-421ebc3c3bc5\">\n",
              "    <style>\n",
              "      .colab-df-generate {\n",
              "        background-color: #E8F0FE;\n",
              "        border: none;\n",
              "        border-radius: 50%;\n",
              "        cursor: pointer;\n",
              "        display: none;\n",
              "        fill: #1967D2;\n",
              "        height: 32px;\n",
              "        padding: 0 0 0 0;\n",
              "        width: 32px;\n",
              "      }\n",
              "\n",
              "      .colab-df-generate:hover {\n",
              "        background-color: #E2EBFA;\n",
              "        box-shadow: 0px 1px 2px rgba(60, 64, 67, 0.3), 0px 1px 3px 1px rgba(60, 64, 67, 0.15);\n",
              "        fill: #174EA6;\n",
              "      }\n",
              "\n",
              "      [theme=dark] .colab-df-generate {\n",
              "        background-color: #3B4455;\n",
              "        fill: #D2E3FC;\n",
              "      }\n",
              "\n",
              "      [theme=dark] .colab-df-generate:hover {\n",
              "        background-color: #434B5C;\n",
              "        box-shadow: 0px 1px 3px 1px rgba(0, 0, 0, 0.15);\n",
              "        filter: drop-shadow(0px 1px 2px rgba(0, 0, 0, 0.3));\n",
              "        fill: #FFFFFF;\n",
              "      }\n",
              "    </style>\n",
              "    <button class=\"colab-df-generate\" onclick=\"generateWithVariable('dfexcel')\"\n",
              "            title=\"Generate code using this dataframe.\"\n",
              "            style=\"display:none;\">\n",
              "\n",
              "  <svg xmlns=\"http://www.w3.org/2000/svg\" height=\"24px\"viewBox=\"0 0 24 24\"\n",
              "       width=\"24px\">\n",
              "    <path d=\"M7,19H8.4L18.45,9,17,7.55,7,17.6ZM5,21V16.75L18.45,3.32a2,2,0,0,1,2.83,0l1.4,1.43a1.91,1.91,0,0,1,.58,1.4,1.91,1.91,0,0,1-.58,1.4L9.25,21ZM18.45,9,17,7.55Zm-12,3A5.31,5.31,0,0,0,4.9,8.1,5.31,5.31,0,0,0,1,6.5,5.31,5.31,0,0,0,4.9,4.9,5.31,5.31,0,0,0,6.5,1,5.31,5.31,0,0,0,8.1,4.9,5.31,5.31,0,0,0,12,6.5,5.46,5.46,0,0,0,6.5,12Z\"/>\n",
              "  </svg>\n",
              "    </button>\n",
              "    <script>\n",
              "      (() => {\n",
              "      const buttonEl =\n",
              "        document.querySelector('#id_ee8115ea-859b-4647-b494-421ebc3c3bc5 button.colab-df-generate');\n",
              "      buttonEl.style.display =\n",
              "        google.colab.kernel.accessAllowed ? 'block' : 'none';\n",
              "\n",
              "      buttonEl.onclick = () => {\n",
              "        google.colab.notebook.generateWithVariable('dfexcel');\n",
              "      }\n",
              "      })();\n",
              "    </script>\n",
              "  </div>\n",
              "\n",
              "    </div>\n",
              "  </div>\n"
            ]
          },
          "metadata": {},
          "execution_count": 9
        }
      ]
    },
    {
      "cell_type": "markdown",
      "metadata": {
        "id": "sS8qMyBwvKKC"
      },
      "source": [
        "## 라이브러리 새로 설치하기(konlpy+kiwi)"
      ]
    },
    {
      "cell_type": "markdown",
      "source": [
        "### konlpy\n",
        "\n",
        "http://konlpy.org\n",
        "\n",
        "https://github.com/konlpy/konlpy"
      ],
      "metadata": {
        "id": "RN-mf1n3ha2u"
      }
    },
    {
      "cell_type": "code",
      "metadata": {
        "id": "q3Gu2Y-YvlCY",
        "colab": {
          "base_uri": "https://localhost:8080/",
          "height": 395
        },
        "outputId": "3eed952c-d7f0-41c6-db64-60968603ad8c"
      },
      "source": [
        "from konlpy.tag import Kkma\n",
        "\n",
        "kkma = Kkma()\n",
        "\n",
        "print(kkma.sentences(u'네, 안녕하세요. 반갑습니다.'))\n",
        "print(kkma.nouns(u'질문이나 건의사항은 깃헙 이슈 트래커에 남겨주세요.'))\n",
        "print(kkma.pos(u'오류보고는 실행환경, 에러메세지와함께 설명을 최대한상세히!^^'))"
      ],
      "execution_count": 10,
      "outputs": [
        {
          "output_type": "error",
          "ename": "ModuleNotFoundError",
          "evalue": "No module named 'konlpy'",
          "traceback": [
            "\u001b[0;31m---------------------------------------------------------------------------\u001b[0m",
            "\u001b[0;31mModuleNotFoundError\u001b[0m                       Traceback (most recent call last)",
            "\u001b[0;32m<ipython-input-10-d8c1084f90fb>\u001b[0m in \u001b[0;36m<cell line: 1>\u001b[0;34m()\u001b[0m\n\u001b[0;32m----> 1\u001b[0;31m \u001b[0;32mfrom\u001b[0m \u001b[0mkonlpy\u001b[0m\u001b[0;34m.\u001b[0m\u001b[0mtag\u001b[0m \u001b[0;32mimport\u001b[0m \u001b[0mKkma\u001b[0m\u001b[0;34m\u001b[0m\u001b[0;34m\u001b[0m\u001b[0m\n\u001b[0m\u001b[1;32m      2\u001b[0m \u001b[0;34m\u001b[0m\u001b[0m\n\u001b[1;32m      3\u001b[0m \u001b[0mkkma\u001b[0m \u001b[0;34m=\u001b[0m \u001b[0mKkma\u001b[0m\u001b[0;34m(\u001b[0m\u001b[0;34m)\u001b[0m\u001b[0;34m\u001b[0m\u001b[0;34m\u001b[0m\u001b[0m\n\u001b[1;32m      4\u001b[0m \u001b[0;34m\u001b[0m\u001b[0m\n\u001b[1;32m      5\u001b[0m \u001b[0mprint\u001b[0m\u001b[0;34m(\u001b[0m\u001b[0mkkma\u001b[0m\u001b[0;34m.\u001b[0m\u001b[0msentences\u001b[0m\u001b[0;34m(\u001b[0m\u001b[0;34mu'네, 안녕하세요. 반갑습니다.'\u001b[0m\u001b[0;34m)\u001b[0m\u001b[0;34m)\u001b[0m\u001b[0;34m\u001b[0m\u001b[0;34m\u001b[0m\u001b[0m\n",
            "\u001b[0;31mModuleNotFoundError\u001b[0m: No module named 'konlpy'",
            "",
            "\u001b[0;31m---------------------------------------------------------------------------\u001b[0;32m\nNOTE: If your import is failing due to a missing package, you can\nmanually install dependencies using either !pip or !apt.\n\nTo view examples of installing some common dependencies, click the\n\"Open Examples\" button below.\n\u001b[0;31m---------------------------------------------------------------------------\u001b[0m\n"
          ],
          "errorDetails": {
            "actions": [
              {
                "action": "open_url",
                "actionText": "Open Examples",
                "url": "/notebooks/snippets/importing_libraries.ipynb"
              }
            ]
          }
        }
      ]
    },
    {
      "cell_type": "code",
      "source": [
        "import nltk"
      ],
      "metadata": {
        "id": "RkoJ2dFip0V6"
      },
      "execution_count": 13,
      "outputs": []
    },
    {
      "cell_type": "code",
      "metadata": {
        "id": "2WBWOvKxvJ2S",
        "colab": {
          "base_uri": "https://localhost:8080/"
        },
        "outputId": "432613d1-0c26-4d02-a36a-1718b7f19848"
      },
      "source": [
        "!pip install konlpy"
      ],
      "execution_count": 11,
      "outputs": [
        {
          "output_type": "stream",
          "name": "stdout",
          "text": [
            "Collecting konlpy\n",
            "  Downloading konlpy-0.6.0-py2.py3-none-any.whl (19.4 MB)\n",
            "\u001b[2K     \u001b[90m━━━━━━━━━━━━━━━━━━━━━━━━━━━━━━━━━━━━━━━━\u001b[0m \u001b[32m19.4/19.4 MB\u001b[0m \u001b[31m71.1 MB/s\u001b[0m eta \u001b[36m0:00:00\u001b[0m\n",
            "\u001b[?25hCollecting JPype1>=0.7.0 (from konlpy)\n",
            "  Downloading JPype1-1.5.0-cp310-cp310-manylinux_2_17_x86_64.manylinux2014_x86_64.whl (488 kB)\n",
            "\u001b[2K     \u001b[90m━━━━━━━━━━━━━━━━━━━━━━━━━━━━━━━━━━━━━━━━\u001b[0m \u001b[32m488.6/488.6 kB\u001b[0m \u001b[31m52.6 MB/s\u001b[0m eta \u001b[36m0:00:00\u001b[0m\n",
            "\u001b[?25hRequirement already satisfied: lxml>=4.1.0 in /usr/local/lib/python3.10/dist-packages (from konlpy) (4.9.4)\n",
            "Requirement already satisfied: numpy>=1.6 in /usr/local/lib/python3.10/dist-packages (from konlpy) (1.23.5)\n",
            "Requirement already satisfied: packaging in /usr/local/lib/python3.10/dist-packages (from JPype1>=0.7.0->konlpy) (23.2)\n",
            "Installing collected packages: JPype1, konlpy\n",
            "Successfully installed JPype1-1.5.0 konlpy-0.6.0\n"
          ]
        }
      ]
    },
    {
      "cell_type": "code",
      "metadata": {
        "id": "Ktp_ByuIvVEi",
        "colab": {
          "base_uri": "https://localhost:8080/"
        },
        "outputId": "9a1f1b0a-1434-47df-e5b6-f8821f5c924d"
      },
      "source": [
        "from konlpy.tag import Kkma\n",
        "꼬꼬마 = Kkma()\n",
        "\n",
        "print(꼬꼬마.sentences(u'네, 안녕하세요. 반갑습니다. 다음에 또 만나요.'))\n",
        "print(꼬꼬마.nouns(u'질문이나 건의사항은 깃헙 이슈 트래커에 남겨주세요.'))\n",
        "print(꼬꼬마.pos(u'여러분 이 수업이 너무 어렵지는 않나요? 이해가 되시나요?'))"
      ],
      "execution_count": 17,
      "outputs": [
        {
          "output_type": "stream",
          "name": "stdout",
          "text": [
            "['네, 안녕하세요.', '반갑습니다.', '다음에 또 만 나요.']\n",
            "['질문', '건의', '건의사항', '사항', '깃헙', '이슈', '트래커']\n",
            "[('여러분', 'NP'), ('이', 'MDT'), ('수업', 'NNG'), ('이', 'JKS'), ('너무', 'MAG'), ('어렵', 'VA'), ('지', 'ECD'), ('는', 'JX'), ('않', 'VXV'), ('나요', 'EFQ'), ('?', 'SF'), ('이해', 'NNG'), ('가', 'JKC'), ('되', 'VV'), ('시', 'EPH'), ('나요', 'EFQ'), ('?', 'SF')]\n"
          ]
        }
      ]
    },
    {
      "cell_type": "markdown",
      "source": [
        "### kiwi\n",
        "\n",
        "https://github.com/bab2min/Kiwi\n",
        "\n",
        "https://github.com/bab2min/kiwipiepy\n",
        "\n"
      ],
      "metadata": {
        "id": "c8WnnXishhPZ"
      }
    },
    {
      "cell_type": "code",
      "source": [
        "!pip install --upgrade pip\n",
        "!pip install kiwipiepy"
      ],
      "metadata": {
        "colab": {
          "base_uri": "https://localhost:8080/"
        },
        "id": "lm0_RKWqh7Cn",
        "outputId": "006df9a4-c4eb-4748-b356-85ba811d9270"
      },
      "execution_count": 18,
      "outputs": [
        {
          "output_type": "stream",
          "name": "stdout",
          "text": [
            "Requirement already satisfied: pip in /usr/local/lib/python3.10/dist-packages (23.1.2)\n",
            "Collecting pip\n",
            "  Downloading pip-23.3.2-py3-none-any.whl (2.1 MB)\n",
            "\u001b[2K     \u001b[90m━━━━━━━━━━━━━━━━━━━━━━━━━━━━━━━━━━━━━━━━\u001b[0m \u001b[32m2.1/2.1 MB\u001b[0m \u001b[31m25.3 MB/s\u001b[0m eta \u001b[36m0:00:00\u001b[0m\n",
            "\u001b[?25hInstalling collected packages: pip\n",
            "  Attempting uninstall: pip\n",
            "    Found existing installation: pip 23.1.2\n",
            "    Uninstalling pip-23.1.2:\n",
            "      Successfully uninstalled pip-23.1.2\n",
            "Successfully installed pip-23.3.2\n",
            "Collecting kiwipiepy\n",
            "  Downloading kiwipiepy-0.16.2-cp310-cp310-manylinux_2_17_x86_64.manylinux2014_x86_64.whl.metadata (1.0 kB)\n",
            "Collecting kiwipiepy-model~=0.16 (from kiwipiepy)\n",
            "  Downloading kiwipiepy_model-0.16.0.tar.gz (30.8 MB)\n",
            "\u001b[2K     \u001b[90m━━━━━━━━━━━━━━━━━━━━━━━━━━━━━━━━━━━━━━━━\u001b[0m \u001b[32m30.8/30.8 MB\u001b[0m \u001b[31m39.4 MB/s\u001b[0m eta \u001b[36m0:00:00\u001b[0m\n",
            "\u001b[?25h  Preparing metadata (setup.py) ... \u001b[?25l\u001b[?25hdone\n",
            "Requirement already satisfied: numpy in /usr/local/lib/python3.10/dist-packages (from kiwipiepy) (1.23.5)\n",
            "Requirement already satisfied: tqdm in /usr/local/lib/python3.10/dist-packages (from kiwipiepy) (4.66.1)\n",
            "Downloading kiwipiepy-0.16.2-cp310-cp310-manylinux_2_17_x86_64.manylinux2014_x86_64.whl (2.8 MB)\n",
            "\u001b[2K   \u001b[90m━━━━━━━━━━━━━━━━━━━━━━━━━━━━━━━━━━━━━━━━\u001b[0m \u001b[32m2.8/2.8 MB\u001b[0m \u001b[31m76.4 MB/s\u001b[0m eta \u001b[36m0:00:00\u001b[0m\n",
            "\u001b[?25hBuilding wheels for collected packages: kiwipiepy-model\n",
            "  Building wheel for kiwipiepy-model (setup.py) ... \u001b[?25l\u001b[?25hdone\n",
            "  Created wheel for kiwipiepy-model: filename=kiwipiepy_model-0.16.0-py3-none-any.whl size=30813256 sha256=c8278e052712deeb4040b213335071df0b1404f48c3cc92f3bf7fc0a904b1949\n",
            "  Stored in directory: /root/.cache/pip/wheels/6b/03/2b/ac2c97cc65ebd9df3516f4b900adc2f0a744df8d1375b2e2ef\n",
            "Successfully built kiwipiepy-model\n",
            "Installing collected packages: kiwipiepy-model, kiwipiepy\n",
            "Successfully installed kiwipiepy-0.16.2 kiwipiepy-model-0.16.0\n",
            "\u001b[33mWARNING: Running pip as the 'root' user can result in broken permissions and conflicting behaviour with the system package manager. It is recommended to use a virtual environment instead: https://pip.pypa.io/warnings/venv\u001b[0m\u001b[33m\n",
            "\u001b[0m"
          ]
        }
      ]
    },
    {
      "cell_type": "code",
      "source": [
        "from kiwipiepy import Kiwi\n",
        "kiwi = Kiwi()\n",
        "# tokenize 함수로 형태소 분석 결과를 얻을 수 있습니다.\n",
        "kiwi.tokenize(\"안녕하세요 형태소 분석기 키위입니다.\")\n"
      ],
      "metadata": {
        "colab": {
          "base_uri": "https://localhost:8080/"
        },
        "id": "xBJ0dJT8iDMQ",
        "outputId": "6b0ff38a-7a19-4269-964c-73cb9d6916b4"
      },
      "execution_count": 19,
      "outputs": [
        {
          "output_type": "execute_result",
          "data": {
            "text/plain": [
              "[Token(form='안녕', tag='NNG', start=0, len=2),\n",
              " Token(form='하', tag='XSA', start=2, len=1),\n",
              " Token(form='세', tag='EC', start=3, len=1),\n",
              " Token(form='요', tag='JX', start=4, len=1),\n",
              " Token(form='형태소', tag='NNG', start=6, len=3),\n",
              " Token(form='분석기', tag='NNG', start=10, len=3),\n",
              " Token(form='키위', tag='NNG', start=14, len=2),\n",
              " Token(form='이', tag='VCP', start=16, len=1),\n",
              " Token(form='ᆸ니다', tag='EF', start=16, len=3),\n",
              " Token(form='.', tag='SF', start=19, len=1)]"
            ]
          },
          "metadata": {},
          "execution_count": 19
        }
      ]
    },
    {
      "cell_type": "markdown",
      "source": [
        "# Python으로 논문 쓰기\n",
        "\n",
        "http://citebay.com/\n",
        "\n"
      ],
      "metadata": {
        "id": "M3Jo0qN0b59l"
      }
    },
    {
      "cell_type": "markdown",
      "source": [
        "## 일반적인 인용 찾기"
      ],
      "metadata": {
        "id": "1emOz-nBiiAy"
      }
    },
    {
      "cell_type": "code",
      "source": [
        "!python --version"
      ],
      "metadata": {
        "colab": {
          "base_uri": "https://localhost:8080/"
        },
        "id": "CueCgEcsb_pf",
        "outputId": "8bef4a95-23fa-4ed8-c303-681458c99c3c"
      },
      "execution_count": null,
      "outputs": [
        {
          "output_type": "stream",
          "name": "stdout",
          "text": [
            "Python 3.10.12\n"
          ]
        }
      ]
    },
    {
      "cell_type": "code",
      "source": [
        "!pip show pandas"
      ],
      "metadata": {
        "colab": {
          "base_uri": "https://localhost:8080/"
        },
        "id": "CNiy4Pq_dVh0",
        "outputId": "8458f108-ecbb-4f8d-df3f-df1ca1bf4ee0"
      },
      "execution_count": null,
      "outputs": [
        {
          "output_type": "stream",
          "name": "stdout",
          "text": [
            "Name: pandas\n",
            "Version: 1.5.3\n",
            "Summary: Powerful data structures for data analysis, time series, and statistics\n",
            "Home-page: https://pandas.pydata.org\n",
            "Author: The Pandas Development Team\n",
            "Author-email: pandas-dev@python.org\n",
            "License: BSD-3-Clause\n",
            "Location: /usr/local/lib/python3.10/dist-packages\n",
            "Requires: numpy, python-dateutil, pytz\n",
            "Required-by: altair, arviz, bigframes, bokeh, bqplot, cmdstanpy, cufflinks, datascience, db-dtypes, dopamine-rl, fastai, geemap, geopandas, google-colab, gspread-dataframe, holoviews, ibis-framework, lida, mizani, mlxtend, pandas-datareader, pandas-gbq, panel, plotnine, prophet, pymc, seaborn, sklearn-pandas, statsmodels, vega-datasets, xarray, yfinance\n"
          ]
        }
      ]
    },
    {
      "cell_type": "code",
      "source": [
        "!pip show konlpy"
      ],
      "metadata": {
        "colab": {
          "base_uri": "https://localhost:8080/"
        },
        "id": "DrhkLvdQdo0A",
        "outputId": "53b268b3-7a41-4273-980e-aa411b2543af"
      },
      "execution_count": null,
      "outputs": [
        {
          "output_type": "stream",
          "name": "stdout",
          "text": [
            "Name: konlpy\n",
            "Version: 0.6.0\n",
            "Summary: Python package for Korean natural language processing.\n",
            "Home-page: http://konlpy.org\n",
            "Author: Team KoNLPy\n",
            "Author-email: konlpy@googlegroups.com\n",
            "License: GPL v3\n",
            "Location: /usr/local/lib/python3.10/dist-packages\n",
            "Requires: JPype1, lxml, numpy\n",
            "Required-by: \n"
          ]
        }
      ]
    },
    {
      "cell_type": "code",
      "source": [
        "!pip show kiwipiepy"
      ],
      "metadata": {
        "colab": {
          "base_uri": "https://localhost:8080/"
        },
        "id": "TLJ9arFMiOXe",
        "outputId": "3cb9e1cf-8b8b-4bb7-c2b7-64ea76d1bc13"
      },
      "execution_count": null,
      "outputs": [
        {
          "output_type": "stream",
          "name": "stdout",
          "text": [
            "Name: kiwipiepy\n",
            "Version: 0.16.2\n",
            "Summary: Kiwi, the Korean Tokenizer for Python\n",
            "Home-page: https://github.com/bab2min/kiwipiepy\n",
            "Author: bab2min\n",
            "Author-email: bab2min@gmail.com\n",
            "License: LGPL v3 License\n",
            "Location: /usr/local/lib/python3.10/dist-packages\n",
            "Requires: kiwipiepy-model, numpy, tqdm\n",
            "Required-by: \n"
          ]
        }
      ]
    },
    {
      "cell_type": "markdown",
      "source": [
        "## 인용정보가 없다면?\n",
        "\n",
        "https://github.com/ByungjunKim/ModernKoreanSubword\n",
        "\n",
        "\n"
      ],
      "metadata": {
        "id": "iR2VEq4Cedzq"
      }
    }
  ]
}